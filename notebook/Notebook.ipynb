{
  "cells": [
    {
      "cell_type": "markdown",
      "metadata": {
        "id": "JO8XphcniJdr"
      },
      "source": [
        "# **Desafio Técnico - PicPay**"
      ]
    },
    {
      "cell_type": "markdown",
      "metadata": {
        "id": "PBD_90t6kVeT"
      },
      "source": [
        "---"
      ]
    },
    {
      "cell_type": "markdown",
      "metadata": {
        "id": "EVTmRWbpiRXp"
      },
      "source": [
        "## **Instalação de pacotes e download dos dados**"
      ]
    },
    {
      "cell_type": "code",
      "execution_count": null,
      "metadata": {
        "id": "ackx5ZZ1yzM1"
      },
      "outputs": [],
      "source": [
        "!wget  https://github.com/PicPay/case-machine-learning-engineer-pleno/raw/refs/heads/main/notebook/airports-database.zip\n",
        "!unzip ./airports-database.zip"
      ]
    },
    {
      "cell_type": "markdown",
      "metadata": {
        "id": "OVWc6zxUkXZX"
      },
      "source": [
        "---"
      ]
    },
    {
      "cell_type": "markdown",
      "metadata": {
        "id": "zJIRJpqpjnI9"
      },
      "source": [
        "## **Preparação dos dados e funções auxiliares**"
      ]
    },
    {
      "cell_type": "code",
      "execution_count": 2,
      "metadata": {
        "id": "TtINO1Cnj59w"
      },
      "outputs": [],
      "source": [
        "import sys\n",
        "import pandas as pd\n",
        "import numpy as np\n",
        "import pyspark.sql.functions as F\n",
        "\n",
        "from pyspark.sql import SparkSession\n",
        "from pyspark.sql.window import Window\n",
        "from google.colab import userdata"
      ]
    },
    {
      "cell_type": "code",
      "execution_count": 3,
      "metadata": {
        "id": "30ffy7uj3ZUd"
      },
      "outputs": [],
      "source": [
        "spark = SparkSession.builder.appName(\"picpay\").getOrCreate()"
      ]
    },
    {
      "cell_type": "code",
      "execution_count": 4,
      "metadata": {
        "id": "TRGN0e-F5OvI"
      },
      "outputs": [],
      "source": [
        "from pyspark.sql.types import StructType, StructField, IntegerType, StringType, DoubleType, TimestampType\n",
        "\n",
        "schema = StructType([\n",
        "    StructField(\"id\", IntegerType(), False),  # Um identificador único para cada registro de voo.\n",
        "    StructField(\"year\", IntegerType(), False),  # O ano em que o voo ocorreu (2013 neste conjunto de dados).\n",
        "    StructField(\"month\", IntegerType(), False),  # O mês em que o voo ocorreu (1 a 12).\n",
        "    StructField(\"day\", IntegerType(), False),  # O dia do mês em que o voo ocorreu (1 a 31).\n",
        "    StructField(\"dep_time\", StringType(), True),  # Horário local real de partida (hhmm).\n",
        "    StructField(\"sched_dep_time\", StringType(), True),  # Horário local programado de partida (hhmm).\n",
        "    StructField(\"dep_delay\", DoubleType(), True),  # Diferença entre os horários real e programado de partida, em minutos.\n",
        "    StructField(\"arr_time\", StringType(), True),  # Horário local real de chegada (hhmm).\n",
        "    StructField(\"sched_arr_time\", StringType(), True),  # Horário local programado de chegada (hhmm).\n",
        "    StructField(\"arr_delay\", DoubleType(), True),  # Diferença entre os horários real e programado de chegada, em minutos.\n",
        "    StructField(\"carrier\", StringType(), True),  # Código de duas letras da companhia aérea.\n",
        "    StructField(\"flight\", StringType(), True),  # Número do voo.\n",
        "    StructField(\"tailnum\", StringType(), True),  # Identificador único da aeronave.\n",
        "    StructField(\"origin\", StringType(), True),  # Código de três letras do aeroporto de origem.\n",
        "    StructField(\"dest\", StringType(), True),  # Código de três letras do aeroporto de destino.\n",
        "    StructField(\"air_time\", DoubleType(), True),  # Duração do voo, em minutos.\n",
        "    StructField(\"distance\", DoubleType(), True),  # Distância entre aeroportos de origem e destino, em milhas.\n",
        "    StructField(\"hour\", IntegerType(), True),  # Componente da hora do horário programado de partida.\n",
        "    StructField(\"minute\", IntegerType(), True),  # Componente dos minutos do horário programado de partida.\n",
        "    StructField(\"time_hour\", TimestampType(), True),  # Horário programado de partida no formato local e de data-hora.\n",
        "    StructField(\"name\", StringType(), True)  # Nome da companhia aérea do voo.\n",
        "])"
      ]
    },
    {
      "cell_type": "code",
      "execution_count": 5,
      "metadata": {
        "id": "OImUmQ6g22uQ"
      },
      "outputs": [],
      "source": [
        "airports_db = spark.read.options(header=True).csv('./airports-database.csv', schema=schema).cache()"
      ]
    },
    {
      "cell_type": "code",
      "execution_count": 6,
      "metadata": {
        "colab": {
          "base_uri": "https://localhost:8080/"
        },
        "id": "0XPNe1Gy6E2h",
        "outputId": "c2d8fc37-f1c3-46b8-bbbb-c8bf5dda75f5"
      },
      "outputs": [
        {
          "data": {
            "text/plain": [
              "336776"
            ]
          },
          "execution_count": 6,
          "metadata": {},
          "output_type": "execute_result"
        }
      ],
      "source": [
        "airports_db.count()"
      ]
    },
    {
      "cell_type": "code",
      "execution_count": 7,
      "metadata": {
        "id": "bPPE685M5n_W"
      },
      "outputs": [],
      "source": [
        "def weekday_str(col):\n",
        "  \"\"\" Converte o número do dia da semana para a string correspondente. \"\"\"\n",
        "\n",
        "  return ( F.when(col == 1, F.lit(\"Domingo\"))\n",
        "    .when(col == 2, F.lit(\"Segunda\"))\n",
        "    .when(col == 3, F.lit(\"Terça\"))\n",
        "    .when(col == 4, F.lit(\"Quarta\"))\n",
        "    .when(col == 5, F.lit(\"Quinta\"))\n",
        "    .when(col == 6, F.lit(\"Sexta\"))\n",
        "    .otherwise(F.lit(\"Sábado\"))\n",
        "  )"
      ]
    },
    {
      "cell_type": "markdown",
      "metadata": {
        "id": "B_pXKJ6xkc0e"
      },
      "source": [
        "---"
      ]
    },
    {
      "cell_type": "markdown",
      "metadata": {
        "id": "byQW0ox64kUa"
      },
      "source": [
        "## **Perguntas**"
      ]
    },
    {
      "cell_type": "markdown",
      "metadata": {
        "id": "nLjl9VWh3u2U"
      },
      "source": [
        "- [1. Qual é o número total de voos no conjunto de dados?](#q1)\n",
        "- [2. Quantos voos foram cancelados? (Considerando que voos cancelados têm dep_time e arr_time nulos)](#q2)\n",
        "- [3. Qual é o atraso médio na partida dos voos (dep_delay)](#q3)?\n",
        "- [4. Quais são os 5 aeroportos com maior número de pousos?](#q4)\n",
        "- [5. Qual é a rota mais frequente (par origin-dest)?](#q5)\n",
        "- [6. Quais são as 5 companhias aéreas com maior tempo médio de atraso na chegada? (Exiba também o tempo)](#q6)\n",
        "- [7. Qual é o dia da semana com maior número de voos?](#q7)\n",
        "- [8. Qual o percentual mensal dos voos tiveram atraso na partida superior a 30 minutos?](#q8)\n",
        "- [9. Qual a origem mais comum para voos que pousaram em Seattle (SEA)?](#q19)\n",
        "- [10. Qual é a média de atraso na partida dos voos (dep_delay) para cada dia da\n",
        "semana?](#q10)\n",
        "- [11. Qual é a rota que teve o maior tempo de voo médio (air_time)?](#q11)\n",
        "- [12. Para cada aeroporto de origem, qual é o aeroporto de destino mais comum?](#q12)\n",
        "- [13. Quais são as 3 rotas que tiveram a maior variação no tempo médio de voo\n",
        "(air_time)?](#q13)\n",
        "- [14. Qual é a média de atraso na chegada para voos que tiveram atraso na partida superior a 1 hora?](#q14)\n",
        "- [15. Qual é a média de voos diários para cada mês do ano?](#q15)\n",
        "- [16. Quais são as 3 rotas mais comuns que tiveram atrasos na chegada superiores a 30 minutos?](#q16)\n",
        "- [17. Para cada origem, qual o principal destino?](#q17)\n",
        "\n",
        "---"
      ]
    },
    {
      "cell_type": "markdown",
      "metadata": {
        "id": "BAixuBTh4yKJ"
      },
      "source": [
        "### <a class=\"anchor\" name=\"q1\"> 1. Qual é o número total de voos no conjunto de dados?</a>"
      ]
    },
    {
      "cell_type": "code",
      "execution_count": 8,
      "metadata": {
        "colab": {
          "base_uri": "https://localhost:8080/"
        },
        "id": "IIshmLisEOIM",
        "outputId": "d4ad41b6-dd81-4b2c-f350-26d613aa31d5"
      },
      "outputs": [
        {
          "data": {
            "text/plain": [
              "336776"
            ]
          },
          "execution_count": 8,
          "metadata": {},
          "output_type": "execute_result"
        }
      ],
      "source": [
        "(\n",
        "    airports_db\n",
        "    .distinct()\n",
        "    .count()\n",
        ")"
      ]
    },
    {
      "cell_type": "markdown",
      "metadata": {
        "id": "FBtV0pJg9o53"
      },
      "source": [
        "---\n",
        "O conjunto de dados tem 336776 registros de vôos.\n",
        "\n",
        "---"
      ]
    },
    {
      "cell_type": "markdown",
      "metadata": {
        "id": "A7pL7czX99cG"
      },
      "source": [
        "### <a class=\"anchor\" name=\"q2\">2. Quantos voos foram cancelados? (Considerando que voos cancelados têm dep_time e arr_time nulos)</a>"
      ]
    },
    {
      "cell_type": "code",
      "execution_count": 9,
      "metadata": {
        "colab": {
          "base_uri": "https://localhost:8080/"
        },
        "id": "Fp-RIYli-Dz8",
        "outputId": "640f90ba-a381-4012-9ece-8be02b16d08f"
      },
      "outputs": [
        {
          "data": {
            "text/plain": [
              "8255"
            ]
          },
          "execution_count": 9,
          "metadata": {},
          "output_type": "execute_result"
        }
      ],
      "source": [
        "(\n",
        "    airports_db\n",
        "    .where((F.col('dep_time').isNull()) & (F.col('arr_time').isNull()))\n",
        "    .count()\n",
        ")"
      ]
    },
    {
      "cell_type": "markdown",
      "metadata": {
        "id": "H7u6umZuAnOA"
      },
      "source": [
        "---\n",
        "Foram cancelados 8255 vôos.\n",
        "\n",
        "---"
      ]
    },
    {
      "cell_type": "markdown",
      "metadata": {
        "id": "jWWt3e4JA-_Y"
      },
      "source": [
        "### <a class=\"anchor\" name=\"q3\">3. Qual é o atraso médio na partida dos voos (dep_delay) ?</a>"
      ]
    },
    {
      "cell_type": "code",
      "execution_count": 10,
      "metadata": {
        "colab": {
          "base_uri": "https://localhost:8080/"
        },
        "id": "0z_1DySGBEoQ",
        "outputId": "dc7a8a46-a778-40e9-fb84-4b1f2b979360"
      },
      "outputs": [
        {
          "name": "stdout",
          "output_type": "stream",
          "text": [
            "+-----------------+\n",
            "|    avg_dep_delay|\n",
            "+-----------------+\n",
            "|39.37323252771895|\n",
            "+-----------------+\n",
            "\n"
          ]
        }
      ],
      "source": [
        "(\n",
        "    airports_db\n",
        "    .where(F.col('dep_delay') > 0)\n",
        "    .select(F.avg('dep_delay').alias('avg_dep_delay'))\n",
        "    .show()\n",
        ")"
      ]
    },
    {
      "cell_type": "code",
      "execution_count": 11,
      "metadata": {
        "colab": {
          "base_uri": "https://localhost:8080/"
        },
        "id": "cy1ugnOcNkax",
        "outputId": "ff555413-b119-4817-d2b5-4a9268b91a21"
      },
      "outputs": [
        {
          "name": "stdout",
          "output_type": "stream",
          "text": [
            "+------------------+\n",
            "|     avg_dep_delay|\n",
            "+------------------+\n",
            "|12.639070257304708|\n",
            "+------------------+\n",
            "\n"
          ]
        }
      ],
      "source": [
        "(\n",
        "    airports_db\n",
        "    .select(F.avg('dep_delay').alias('avg_dep_delay'))\n",
        "    .show()\n",
        ")"
      ]
    },
    {
      "cell_type": "markdown",
      "metadata": {
        "id": "xWOfc0qLBFki"
      },
      "source": [
        "---\n",
        "Entre os vôos que de fato atrasaram (dep_delay > 0), o atraso médio é de 39.37 minutos.\n",
        "\n",
        "Entre todos os vôos, atrasados ou não, a diferença média entre a hora agendada e a hora de partida é de aproximadamente +12.64 minutos.\n",
        "\n",
        "---"
      ]
    },
    {
      "cell_type": "markdown",
      "metadata": {
        "id": "Bc2WKgL6ONd4"
      },
      "source": [
        "### <a class=\"anchor\" name=\"q4\">4. Quais são os 5 aeroportos com maior número de pousos?</a>"
      ]
    },
    {
      "cell_type": "code",
      "execution_count": 12,
      "metadata": {
        "colab": {
          "base_uri": "https://localhost:8080/"
        },
        "id": "aZBvXKsZOTWY",
        "outputId": "4db320f2-c060-4267-bfe3-28b70c14e31f"
      },
      "outputs": [
        {
          "name": "stdout",
          "output_type": "stream",
          "text": [
            "+----+-----+\n",
            "|dest|count|\n",
            "+----+-----+\n",
            "| ORD|17283|\n",
            "| ATL|17215|\n",
            "| LAX|16174|\n",
            "| BOS|15508|\n",
            "| MCO|14082|\n",
            "+----+-----+\n",
            "\n"
          ]
        }
      ],
      "source": [
        "(\n",
        "    airports_db\n",
        "    .groupBy('dest')\n",
        "    .count()\n",
        "    .orderBy(\"count\", ascending=False)\n",
        "    .limit(5)\n",
        "    .show()\n",
        ")"
      ]
    },
    {
      "cell_type": "markdown",
      "metadata": {
        "id": "HbGnqiFkOS-A"
      },
      "source": [
        "---\n",
        "1. ORD - O'Hare International Airport (Chicago, Illinois)\n",
        "\n",
        "2. ATL - Hartsfield-Jackson Atlanta International Airport (Atlanta, Georgia)\n",
        "\n",
        "3. LAX - Los Angeles International Airport (Los Angeles, California)\n",
        "\n",
        "4. BOS - Logan International Airport (Boston, Massachusetts)\n",
        "\n",
        "5. MCO - Orlando International Airport (Orlando, Florida)\n",
        "\n",
        "---"
      ]
    },
    {
      "cell_type": "markdown",
      "metadata": {
        "id": "eoaa6DVxRS1u"
      },
      "source": [
        "### <a class=\"anchor\" name=\"q5\">5. Qual é a rota mais frequente (par origin-dest)?</a>"
      ]
    },
    {
      "cell_type": "code",
      "execution_count": 13,
      "metadata": {
        "colab": {
          "base_uri": "https://localhost:8080/"
        },
        "id": "Yem3_Ni9RY3b",
        "outputId": "5f6af806-b250-4669-ecad-782060febbe5"
      },
      "outputs": [
        {
          "name": "stdout",
          "output_type": "stream",
          "text": [
            "+------+----+-----+\n",
            "|origin|dest|count|\n",
            "+------+----+-----+\n",
            "|   JFK| LAX|11262|\n",
            "+------+----+-----+\n",
            "\n"
          ]
        }
      ],
      "source": [
        "(\n",
        "    airports_db.\n",
        "    groupBy('origin', 'dest')\n",
        "    .count()\n",
        "    .orderBy(\"count\", ascending=False)\n",
        "    .limit(1)\n",
        "    .show()\n",
        ")"
      ]
    },
    {
      "cell_type": "markdown",
      "metadata": {
        "id": "LHB7deIURYU_"
      },
      "source": [
        "---\n",
        "A rota mais frequente no conjunto de dados é JFK -> LAX (Nova Iorque -> Los Angeles)\n",
        "\n",
        "---"
      ]
    },
    {
      "cell_type": "markdown",
      "metadata": {
        "id": "Kj8hyehTSM6k"
      },
      "source": [
        "### <a class=\"anchor\" name=\"q6\">6. Quais são as 5 companhias aéreas com maior tempo médio de atraso na chegada? (Exiba também o tempo)</a>"
      ]
    },
    {
      "cell_type": "code",
      "execution_count": 14,
      "metadata": {
        "colab": {
          "base_uri": "https://localhost:8080/"
        },
        "id": "HBD58tVcSTxM",
        "outputId": "dda8633e-8d9f-44aa-80da-05759c96b64e"
      },
      "outputs": [
        {
          "name": "stdout",
          "output_type": "stream",
          "text": [
            "+---------------------------+------------------+\n",
            "|name                       |avg_delay         |\n",
            "+---------------------------+------------------+\n",
            "|Frontier Airlines Inc.     |21.920704845814978|\n",
            "|AirTran Airways Corporation|20.115905511811025|\n",
            "|ExpressJet Airlines Inc.   |15.79643108710965 |\n",
            "|Mesa Airlines Inc.         |15.556985294117647|\n",
            "|SkyWest Airlines Inc.      |11.931034482758621|\n",
            "+---------------------------+------------------+\n",
            "\n"
          ]
        }
      ],
      "source": [
        "(\n",
        "    airports_db\n",
        "    .groupBy('name')\n",
        "    .agg(F.avg('arr_delay')\n",
        "    .alias('avg_delay'))\n",
        "    .orderBy(\"avg_delay\", ascending=False)\n",
        "    .limit(5)\n",
        "    .show(truncate=False)\n",
        ")"
      ]
    },
    {
      "cell_type": "markdown",
      "metadata": {
        "id": "ZBTcTgKgTXTS"
      },
      "source": [
        "---"
      ]
    },
    {
      "cell_type": "markdown",
      "metadata": {
        "id": "_DnZTWVpSTlX"
      },
      "source": [
        "### <a class=\"anchor\" name=\"q7\">7. Qual é o dia da semana com maior número de voos?</a>"
      ]
    },
    {
      "cell_type": "code",
      "execution_count": 15,
      "metadata": {
        "colab": {
          "base_uri": "https://localhost:8080/"
        },
        "id": "29uUVvm7STYs",
        "outputId": "cf8dc577-f36a-4507-e8c0-1eb5e3c7f925"
      },
      "outputs": [
        {
          "name": "stdout",
          "output_type": "stream",
          "text": [
            "+-------+-----+\n",
            "|weekday|count|\n",
            "+-------+-----+\n",
            "|Segunda|50690|\n",
            "|  Terça|50422|\n",
            "|  Sexta|50308|\n",
            "| Quinta|50219|\n",
            "| Quarta|50060|\n",
            "|Domingo|46357|\n",
            "| Sábado|38720|\n",
            "+-------+-----+\n",
            "\n"
          ]
        }
      ],
      "source": [
        "(\n",
        "    airports_db\n",
        "    .groupBy(F.dayofweek('time_hour'))\n",
        "    .count()\n",
        "    .orderBy(\"count\", ascending=False)\n",
        "    .withColumn('weekday', weekday_str(F.col('dayofweek(time_hour)')))\n",
        "    .select('weekday', 'count')\n",
        "    .show()\n",
        ")"
      ]
    },
    {
      "cell_type": "markdown",
      "metadata": {
        "id": "TxiqFzP-UCXj"
      },
      "source": [
        "---\n",
        "O dia da semana com mais vôos é segunda-feira (50690 vôos).\n",
        "\n",
        "---"
      ]
    },
    {
      "cell_type": "markdown",
      "metadata": {
        "id": "-0y1BQVwSTLt"
      },
      "source": [
        "### <a class=\"anchor\" name=\"q8\">8. Qual o percentual mensal dos voos tiveram atraso na partida superior a 30 minutos?</a>"
      ]
    },
    {
      "cell_type": "code",
      "execution_count": 16,
      "metadata": {
        "colab": {
          "base_uri": "https://localhost:8080/"
        },
        "id": "d1xsDsstSS3c",
        "outputId": "c10a6668-a30e-4d55-fbf2-1c27fc481abd"
      },
      "outputs": [
        {
          "name": "stdout",
          "output_type": "stream",
          "text": [
            "+-----+-------------------+\n",
            "|month|      percent_delay|\n",
            "+-----+-------------------+\n",
            "|    1|0.12405569545252555|\n",
            "|    2|0.12752995871908943|\n",
            "|    3| 0.1494416314073663|\n",
            "|    4|0.15993646311330745|\n",
            "|    5|0.15335463258785942|\n",
            "|    6|0.20242183903976207|\n",
            "|    7|0.20978759558198812|\n",
            "|    8|0.14450847342039758|\n",
            "|    9| 0.0877275694494814|\n",
            "|   10|0.09335733324102599|\n",
            "|   11|0.08757517969781428|\n",
            "|   12| 0.1731295539363782|\n",
            "+-----+-------------------+\n",
            "\n"
          ]
        }
      ],
      "source": [
        "(\n",
        "    airports_db\n",
        "    .groupBy('month')\n",
        "    .agg((F.count(F.when(F.col('dep_delay') > 30, 1)) / F.count('*')).alias('percent_delay'))\n",
        "    .sort('month')\n",
        "    .show()\n",
        ")"
      ]
    },
    {
      "cell_type": "markdown",
      "metadata": {
        "id": "pY7BtV0RghEL"
      },
      "source": [
        "---"
      ]
    },
    {
      "cell_type": "markdown",
      "metadata": {
        "id": "eiCO4rmqgg3L"
      },
      "source": [
        "### <a class=\"anchor\" name=\"q9\">9. Qual a origem mais comum para voos que pousaram em Seattle (SEA)?</a>"
      ]
    },
    {
      "cell_type": "code",
      "execution_count": 17,
      "metadata": {
        "colab": {
          "base_uri": "https://localhost:8080/"
        },
        "id": "-_fjmqV-ggnT",
        "outputId": "006c406b-6170-414b-8721-a50139e65d27"
      },
      "outputs": [
        {
          "name": "stdout",
          "output_type": "stream",
          "text": [
            "+------+-----+\n",
            "|origin|count|\n",
            "+------+-----+\n",
            "|   JFK| 2079|\n",
            "+------+-----+\n",
            "\n"
          ]
        }
      ],
      "source": [
        "(\n",
        "    airports_db\n",
        "    .where((F.col('dest') == 'SEA') & ~F.col('arr_time').isNull())\n",
        "    .groupby('origin')\n",
        "    .count()\n",
        "    .sort('count', ascending=False)\n",
        "    .limit(1)\n",
        "    .show()\n",
        ")"
      ]
    },
    {
      "cell_type": "markdown",
      "metadata": {
        "id": "7O4BEdLIhsEp"
      },
      "source": [
        "---\n",
        "A origem mais comum é o aeroporto JFK (John F. Kennedy International Airport, New York).\n",
        "\n",
        "---"
      ]
    },
    {
      "cell_type": "markdown",
      "metadata": {
        "id": "yAD7i_6pi0PX"
      },
      "source": [
        "### <a class=\"anchor\" name=\"q10\">10. Qual é a média de atraso na partida dos voos (dep_delay) para cada dia da semana?</a>"
      ]
    },
    {
      "cell_type": "code",
      "execution_count": 18,
      "metadata": {
        "colab": {
          "base_uri": "https://localhost:8080/"
        },
        "id": "i_7OP25Zi6PA",
        "outputId": "7b474bdc-553d-4533-b1ad-076c35b2b630"
      },
      "outputs": [
        {
          "name": "stdout",
          "output_type": "stream",
          "text": [
            "+-------+------------------+\n",
            "|weekday|     avg_dep_delay|\n",
            "+-------+------------------+\n",
            "|Domingo|11.589531801152422|\n",
            "|Segunda|14.778936729330908|\n",
            "|  Terça|10.631682565455652|\n",
            "| Quarta|11.803512219083876|\n",
            "| Quinta|16.148919990957108|\n",
            "|  Sexta| 14.69605749486653|\n",
            "| Sábado| 7.650502333676133|\n",
            "+-------+------------------+\n",
            "\n"
          ]
        }
      ],
      "source": [
        "(\n",
        "    airports_db\n",
        "    .groupBy(F.dayofweek('time_hour').alias('dayofweek'))\n",
        "    .agg(F.avg('dep_delay').alias('avg_dep_delay'))\n",
        "    .sort('dayofweek')\n",
        "    .withColumn('weekday', weekday_str(F.col('dayofweek')))\n",
        "    .select('weekday', 'avg_dep_delay')\n",
        "    .show()\n",
        ")"
      ]
    },
    {
      "cell_type": "markdown",
      "metadata": {
        "id": "a_yI6C6xmny0"
      },
      "source": [
        "---"
      ]
    },
    {
      "cell_type": "markdown",
      "metadata": {
        "id": "qvBoMAv-mqgX"
      },
      "source": [
        "### <a class=\"anchor\" name=\"q11\">11. Qual é a rota que teve o maior tempo de voo médio (air_time) ?</a>"
      ]
    },
    {
      "cell_type": "code",
      "execution_count": 19,
      "metadata": {
        "colab": {
          "base_uri": "https://localhost:8080/"
        },
        "id": "1eFUbaTfmqS4",
        "outputId": "5561ce7d-b473-4c55-e764-89a7734a64d0"
      },
      "outputs": [
        {
          "name": "stdout",
          "output_type": "stream",
          "text": [
            "+------+----+-----------------+\n",
            "|origin|dest|     avg_air_time|\n",
            "+------+----+-----------------+\n",
            "|   JFK| HNL|623.0877192982456|\n",
            "+------+----+-----------------+\n",
            "\n"
          ]
        }
      ],
      "source": [
        "(\n",
        "    airports_db\n",
        "    .groupBy('origin', 'dest')\n",
        "    .agg(F.avg('air_time').alias('avg_air_time'))\n",
        "    .orderBy('avg_air_time', ascending=False)\n",
        "    .limit(1)\n",
        "    .show()\n",
        ")"
      ]
    },
    {
      "cell_type": "markdown",
      "metadata": {
        "id": "UTbHd5zJi6wX"
      },
      "source": [
        "---\n",
        "A rota com maior tempo de vôo médio foi JFK -> HNL (Nova Iorque -> Honolulu)\n",
        "\n",
        "---"
      ]
    },
    {
      "cell_type": "markdown",
      "metadata": {
        "id": "84a_8lbvna4E"
      },
      "source": [
        "### <a class=\"anchor\" name=\"q12\">12. Para cada aeroporto de origem, qual é o aeroporto de destino mais comum?</a>"
      ]
    },
    {
      "cell_type": "code",
      "execution_count": 20,
      "metadata": {
        "colab": {
          "base_uri": "https://localhost:8080/"
        },
        "id": "9JEKsVMOqhNa",
        "outputId": "55cfb953-8588-4c80-9fd7-80d90b107eba"
      },
      "outputs": [
        {
          "name": "stdout",
          "output_type": "stream",
          "text": [
            "+------+----+-----+\n",
            "|origin|dest|count|\n",
            "+------+----+-----+\n",
            "|   EWR| ORD| 6100|\n",
            "|   JFK| LAX|11262|\n",
            "|   LGA| ATL|10263|\n",
            "+------+----+-----+\n",
            "\n"
          ]
        }
      ],
      "source": [
        "(\n",
        "    airports_db\n",
        "    .groupBy('origin', 'dest')\n",
        "    .count()\n",
        "    .withColumn('rank', F.rank().over(Window.partitionBy(\"origin\").orderBy(F.col('count').desc())))\n",
        "    .where(F.col('rank') == 1)\n",
        "    .select('origin', 'dest', 'count')\n",
        "    .show()\n",
        ")"
      ]
    },
    {
      "cell_type": "markdown",
      "metadata": {
        "id": "5eVcrTwOpYns"
      },
      "source": [
        "---\n",
        "JFK -> LAX (11262 vôos)\n",
        "\n",
        "LGA -> ATL (10263 vôos)\n",
        "\n",
        "EWR -> ORD (6100 vôos)\n",
        "\n",
        "---"
      ]
    },
    {
      "cell_type": "markdown",
      "metadata": {
        "id": "t0Su2HfLqW0q"
      },
      "source": [
        "### <a class=\"anchor\" name=\"q13\">13. Quais são as 3 rotas que tiveram a maior variação no tempo médio de voo (air_time) ?<a/>"
      ]
    },
    {
      "cell_type": "code",
      "execution_count": 21,
      "metadata": {
        "colab": {
          "base_uri": "https://localhost:8080/"
        },
        "id": "gTMPh9LRqVy1",
        "outputId": "e6b664ce-798d-4e24-bb29-6abc45ace1a4"
      },
      "outputs": [
        {
          "name": "stdout",
          "output_type": "stream",
          "text": [
            "+------+----+------------------+\n",
            "|origin|dest|   stddev_air_time|\n",
            "+------+----+------------------+\n",
            "|   LGA| MYR| 25.32455988429677|\n",
            "|   EWR| HNL| 21.26613546847427|\n",
            "|   JFK| HNL|20.688824842787056|\n",
            "+------+----+------------------+\n",
            "\n"
          ]
        }
      ],
      "source": [
        "(\n",
        "    airports_db\n",
        "    .groupBy('origin', 'dest')\n",
        "    .agg(F.stddev('air_time')\n",
        "    .alias('stddev_air_time'))\n",
        "    .orderBy('stddev_air_time', ascending=False)\n",
        "    .limit(3)\n",
        "    .show()\n",
        ")"
      ]
    },
    {
      "cell_type": "markdown",
      "metadata": {
        "id": "z7PSC4aztZ9B"
      },
      "source": [
        "---\n",
        "As 3 rotas com maior variação no tempo médio de vôo, de acordo com o desvio-padrão, foram:\n",
        "\n",
        "LGA -> MYR\n",
        "\n",
        "EWR -> HNL\n",
        "\n",
        "JFK -> HNL\n",
        "\n",
        "---"
      ]
    },
    {
      "cell_type": "markdown",
      "metadata": {
        "id": "dWGsVAKqt_Q2"
      },
      "source": [
        "### <a class=\"anchor\" name=\"q14\">14. Qual é a média de atraso na chegada para voos que tiveram atraso na partida superior a 1 hora<a/>"
      ]
    },
    {
      "cell_type": "code",
      "execution_count": 22,
      "metadata": {
        "colab": {
          "base_uri": "https://localhost:8080/"
        },
        "id": "qKvv3zreoUPZ",
        "outputId": "fd1652bc-3317-408d-c49d-700f7ff80428"
      },
      "outputs": [
        {
          "name": "stdout",
          "output_type": "stream",
          "text": [
            "+------------------+\n",
            "|         avg_delay|\n",
            "+------------------+\n",
            "|119.04880549963919|\n",
            "+------------------+\n",
            "\n"
          ]
        }
      ],
      "source": [
        "(\n",
        "    airports_db\n",
        "    .where(F.col('dep_delay') > 60)\n",
        "    .select(F.avg('arr_delay')\n",
        "    .alias('avg_delay'))\n",
        "    .show()\n",
        ")"
      ]
    },
    {
      "cell_type": "markdown",
      "metadata": {
        "id": "p0daIYpryVYD"
      },
      "source": [
        "---"
      ]
    },
    {
      "cell_type": "markdown",
      "metadata": {
        "id": "bpLUaxbWyXA5"
      },
      "source": [
        "### <a class=\"anchor\" name=\"q15\">15. Qual é a média de voos diários para cada mês do ano?<a/>"
      ]
    },
    {
      "cell_type": "code",
      "execution_count": 23,
      "metadata": {
        "colab": {
          "base_uri": "https://localhost:8080/"
        },
        "id": "bbxQqPSnng3d",
        "outputId": "ba284c11-2c9b-44fc-922b-a20d858892a4"
      },
      "outputs": [
        {
          "name": "stdout",
          "output_type": "stream",
          "text": [
            "+-----+-----------------+\n",
            "|month|        daily_avg|\n",
            "+-----+-----------------+\n",
            "|    1|871.0967741935484|\n",
            "|    2|891.1071428571429|\n",
            "|    3|930.1290322580645|\n",
            "|    4|944.3333333333334|\n",
            "|    5|928.9032258064516|\n",
            "|    6|941.4333333333333|\n",
            "|    7|949.1935483870968|\n",
            "|    8|946.0322580645161|\n",
            "|    9|919.1333333333333|\n",
            "|   10|931.9032258064516|\n",
            "|   11|908.9333333333333|\n",
            "|   12|907.5806451612904|\n",
            "+-----+-----------------+\n",
            "\n"
          ]
        }
      ],
      "source": [
        "(\n",
        "    airports_db\n",
        "    .groupby('day', 'month')\n",
        "    .count()\n",
        "    .groupby('month').agg(F.avg('count').alias('daily_avg'))\n",
        "    .sort('month')\n",
        "    .show()\n",
        ")"
      ]
    },
    {
      "cell_type": "markdown",
      "metadata": {
        "id": "QNUJpfyZ9zLj"
      },
      "source": [
        "---"
      ]
    },
    {
      "cell_type": "markdown",
      "metadata": {
        "id": "i6a7rue-90jf"
      },
      "source": [
        "### <a class=\"anchor\" name=\"q16\">16. Quais são as 3 rotas mais comuns que tiveram atrasos na chegada superiores a 30 minutos?<a/>"
      ]
    },
    {
      "cell_type": "code",
      "execution_count": 24,
      "metadata": {
        "colab": {
          "base_uri": "https://localhost:8080/"
        },
        "id": "Uka7xhu-_AHq",
        "outputId": "ba98c636-bf70-466d-c235-24f82591bca8"
      },
      "outputs": [
        {
          "name": "stdout",
          "output_type": "stream",
          "text": [
            "+------+----+-----+\n",
            "|origin|dest|count|\n",
            "+------+----+-----+\n",
            "|   LGA| ATL| 1563|\n",
            "|   JFK| LAX| 1286|\n",
            "|   LGA| ORD| 1188|\n",
            "+------+----+-----+\n",
            "\n"
          ]
        }
      ],
      "source": [
        "(\n",
        "    airports_db\n",
        "    .where(F.col('arr_delay') > 30)\n",
        "    .groupBy('origin', 'dest')\n",
        "    .count()\n",
        "    .orderBy('count', ascending=False)\n",
        "    .limit(3)\n",
        "    .show()\n",
        ")"
      ]
    },
    {
      "cell_type": "markdown",
      "metadata": {
        "id": "FeOT9YJc-rtq"
      },
      "source": [
        "---"
      ]
    },
    {
      "cell_type": "markdown",
      "metadata": {
        "id": "51EE8vfQ-OD3"
      },
      "source": [
        "### <a class=\"anchor\" name=\"q17\">17. Para cada origem, qual o principal destino?</a>"
      ]
    },
    {
      "cell_type": "code",
      "execution_count": 25,
      "metadata": {
        "colab": {
          "base_uri": "https://localhost:8080/"
        },
        "id": "hhBBhb_D-N33",
        "outputId": "d7cde13c-a380-440e-e21c-087492fd1418"
      },
      "outputs": [
        {
          "name": "stdout",
          "output_type": "stream",
          "text": [
            "+------+----+-----+\n",
            "|origin|dest|count|\n",
            "+------+----+-----+\n",
            "|   EWR| ORD| 6100|\n",
            "|   JFK| LAX|11262|\n",
            "|   LGA| ATL|10263|\n",
            "+------+----+-----+\n",
            "\n"
          ]
        }
      ],
      "source": [
        "(\n",
        "    airports_db\n",
        "    .groupBy('origin', 'dest')\n",
        "    .count()\n",
        "    .withColumn('rank', F.rank().over(Window.partitionBy(\"origin\").orderBy(F.col('count').desc())))\n",
        "    .where(F.col('rank') == 1)\n",
        "    .select('origin', 'dest', 'count')\n",
        "    .show()\n",
        ")"
      ]
    },
    {
      "cell_type": "markdown",
      "metadata": {
        "id": "Uc8fZaxNAMWW"
      },
      "source": [
        "---\n",
        "Esta questão parece ser semelhante à [questão 12](#q12).\n",
        "\n",
        "---"
      ]
    },
    {
      "cell_type": "markdown",
      "metadata": {
        "id": "M3-MoQy1A0Oa"
      },
      "source": [
        "## **Enriquecimento da Base de Dados**"
      ]
    },
    {
      "cell_type": "markdown",
      "metadata": {
        "id": "a6lKbKVtmisI"
      },
      "source": [
        "---"
      ]
    },
    {
      "cell_type": "markdown",
      "metadata": {
        "id": "TnNmp-zHlN8X"
      },
      "source": [
        "### **Consolidar coordenadas dos aeroportos em um csv**"
      ]
    },
    {
      "cell_type": "code",
      "execution_count": 26,
      "metadata": {
        "id": "wKZScZYflnik"
      },
      "outputs": [],
      "source": [
        "import time\n",
        "import pytz\n",
        "import requests\n",
        "import csv\n",
        "\n",
        "def get_coordinates(airport):\n",
        "  time.sleep(1)\n",
        "\n",
        "  airportdb_key = userdata.get('AIRPORTDB_KEY')\n",
        "  url = f\"https://airportdb.io/api/v1/airport/K{airport}?apiToken={airportdb_key}\"\n",
        "  response = requests.get(url)\n",
        "  data = response.json()\n",
        "\n",
        "  if data.get('statusCode') == 404:\n",
        "    return None, None\n",
        "\n",
        "  lat, long = data['latitude_deg'], data['longitude_deg']\n",
        "  return lat, long\n",
        "\n",
        "\n",
        "distinct_airports = (\n",
        "    airports_db\n",
        "    .select(F.col(\"dest\").alias('airport'))\n",
        "    .distinct()\n",
        "    .union(\n",
        "        airports_db\n",
        "        .select(F.col(\"origin\").alias('airport'))\n",
        "        .distinct()\n",
        "    )\n",
        ")\n",
        "airport_codes = [row.airport for row in distinct_airports.collect()]\n",
        "\n",
        "# Incluindo manualmente informações sobre aeroportos que não constam na api\n",
        "missing_data = '''\n",
        "PSE,18.0083,-66.5630\n",
        "HNL,21.3187,-157.9225\n",
        "SJU,18.4394,-66.0018\n",
        "BQN,18.4949,-67.1294\n",
        "STT,18.3373,-64.9734\n",
        "ANC,61.1743,-149.9984\n",
        "'''\n",
        "\n",
        "with open('coordinates.csv', 'w', newline='') as f:\n",
        "  writer = csv.writer(f)\n",
        "  writer.writerow(['airport', 'lat', 'long'])\n",
        "  for airport in airport_codes:\n",
        "    lat, long = get_coordinates(airport)\n",
        "    if lat and long:\n",
        "      writer.writerow([airport, lat, long])\n",
        "  f.write(missing_data.strip())\n"
      ]
    },
    {
      "cell_type": "markdown",
      "metadata": {
        "id": "WqwdnxI7mg0v"
      },
      "source": [
        "---"
      ]
    },
    {
      "cell_type": "markdown",
      "metadata": {
        "id": "tsPFC3AHpRAm"
      },
      "source": [
        "### **Enriquecer dados com respectivas coordenadas de origem e destino**"
      ]
    },
    {
      "cell_type": "code",
      "execution_count": 28,
      "metadata": {
        "id": "-j_EWQS2pH5X"
      },
      "outputs": [],
      "source": [
        "coordinates_schema = StructType([\n",
        "    StructField(\"airport\", StringType(), False),\n",
        "    StructField(\"lat\", DoubleType(), False),\n",
        "    StructField(\"long\", DoubleType(), False),\n",
        "\n",
        "])\n",
        "\n",
        "coordinates = spark.read.options(header=True).csv('./coordinates.csv', schema=coordinates_schema).distinct()\n",
        "\n",
        "airports_db = (\n",
        "    airports_db\n",
        "    .join(coordinates, F.col('origin') == F.col('airport'), 'left_outer')\n",
        "    .withColumnRenamed('lat', 'lat_origin')\n",
        "    .withColumnRenamed('long', 'long_origin')\n",
        "    .drop('airport')\n",
        "    .join(coordinates, F.col('dest') == F.col('airport'), 'left_outer')\n",
        "    .withColumnRenamed('lat', 'lat_dest')\n",
        "    .withColumnRenamed('long', 'long_dest')\n",
        "    .withColumnRenamed('tz_offset', 'tz_offset_dest')\n",
        "    .drop('airport')\n",
        "    .cache()\n",
        ")"
      ]
    },
    {
      "cell_type": "markdown",
      "metadata": {
        "id": "FsvUupBomyMZ"
      },
      "source": [
        "---"
      ]
    },
    {
      "cell_type": "markdown",
      "metadata": {
        "id": "lrXgOleZ-cuM"
      },
      "source": [
        "### **Consolidar a velocidade do vento na origem de todos os registros em um csv**"
      ]
    },
    {
      "cell_type": "code",
      "execution_count": 30,
      "metadata": {
        "id": "rGiG-7JzsC8l"
      },
      "outputs": [],
      "source": [
        "import json\n",
        "from datetime import datetime, timedelta\n",
        "\n",
        "def get_wind_speed(year, month, day, lat, lon, apikey):\n",
        "    try:\n",
        "        url = f'https://api.weatherbit.io/v2.0/history/daily'\n",
        "        start_date = datetime(int(year), int(month), int(day))\n",
        "        end_date = start_date + timedelta(days=1)\n",
        "\n",
        "        params = {\n",
        "            'lat': lat,\n",
        "            'lon': lon,\n",
        "            'start_date': start_date.strftime('%Y-%m-%d') ,\n",
        "            'end_date': end_date.strftime('%Y-%m-%d'),\n",
        "            'key': apikey\n",
        "        }\n",
        "        response = requests.get(url, params=params)\n",
        "        response.raise_for_status()  # Raise HTTPError for bad responses (4xx or 5xx)\n",
        "        data = json.loads(response.text)\n",
        "        wind_spd = data['data'][0]['wind_spd']\n",
        "        return float(wind_spd)\n",
        "    except (requests.exceptions.RequestException, KeyError, IndexError, json.JSONDecodeError) as e:\n",
        "        print(f\"Error fetching weather data: {e}\")\n",
        "        return None\n",
        "\n",
        "origin_days = airports_db.select('origin', 'month', 'day', 'lat_origin', 'long_origin').distinct().collect()\n",
        "\n",
        "with open('windspeeds.csv', 'w', newline='') as f:\n",
        "  writer = csv.writer(f)\n",
        "  writer.writerow(['airport', 'month', 'day', 'wind_spd'])\n",
        "  for row in origin_days:\n",
        "    airport, month, day, lat, long = row\n",
        "    wind_spd = get_wind_speed(2013, month, day, lat, long, apikey=userdata.get('WEATHERBIT_KEY'))\n",
        "    time.sleep(1)\n",
        "    if wind_spd:\n",
        "      writer.writerow([airport, month, day, wind_spd])"
      ]
    },
    {
      "cell_type": "markdown",
      "metadata": {
        "id": "bIMTt11tmz7w"
      },
      "source": [
        "---"
      ]
    },
    {
      "cell_type": "markdown",
      "metadata": {
        "id": "jPiqeOqela0F"
      },
      "source": [
        "### **Enriquecer dados com velocidade do vento na origem**"
      ]
    },
    {
      "cell_type": "code",
      "execution_count": 32,
      "metadata": {
        "id": "kBLV8tCf4BHz"
      },
      "outputs": [],
      "source": [
        "windspeeds_schema = StructType([\n",
        "    StructField(\"airport\", StringType(), False),\n",
        "    StructField(\"wind_month\", IntegerType(), False),\n",
        "    StructField(\"wind_day\", IntegerType(), False),\n",
        "    StructField(\"wind_spd\", DoubleType(), False)\n",
        "\n",
        "])\n",
        "\n",
        "windspeeds = spark.read.options(header=True).csv('./windspeeds.csv', schema=windspeeds_schema)\n",
        "\n",
        "airports_db = (\n",
        "  airports_db.alias('a')\n",
        "  .join(\n",
        "      windspeeds.alias('w'),\n",
        "      (F.col('origin') == F.col('airport'))\n",
        "        & (F.col('month') == F.col('wind_month'))\n",
        "        & (F.col('day') == F.col('wind_day')),\n",
        "      'left_outer', )\n",
        "  .withColumnRenamed('wind_spd', 'origin_wind_spd')\n",
        "  .drop('airport', 'wind_month', 'wind_day')\n",
        ")"
      ]
    },
    {
      "cell_type": "markdown",
      "metadata": {
        "id": "lZA1ZrsNm8Fb"
      },
      "source": [
        "---"
      ]
    },
    {
      "cell_type": "markdown",
      "metadata": {
        "id": "Msr_z3HFAtP0"
      },
      "source": [
        "### **Pergunta final**\n",
        "\n",
        "Enriqueça a base de dados de voos com as condições meteorológicas (velocidade do vento) para os aeroportos de origem e destino. Mostre as informações enriquecidas para os 5 voos com maior atraso na chegada.\n",
        "\n",
        "*Observação: como existe um limite de requisições diárias na api do weatherbit (1.5K req/dia), optou-se por enriquecer a totalidade dos dados relativos à origem, dado que é um número reduzido de combinações, enquanto para os dados relativos ao destino, o enriquecimento foi realizado apenas para os 5 voos com maior atraso na chegada, que era o objeto da questão.*"
      ]
    },
    {
      "cell_type": "code",
      "execution_count": null,
      "metadata": {
        "id": "QfkAWPfyloG0"
      },
      "outputs": [],
      "source": [
        "@F.udf(returnType=DoubleType())\n",
        "def wind_speed_udf(year, month, day, lat, lon, apikey=userdata.get('WEATHERBIT_KEY')):\n",
        "  return get_wind_speed(year, month, day, lat, lon, apikey)"
      ]
    },
    {
      "cell_type": "code",
      "execution_count": 34,
      "metadata": {
        "colab": {
          "base_uri": "https://localhost:8080/"
        },
        "id": "fVaHM8mF-43s",
        "outputId": "b4227cb7-c389-4940-d2d3-e7d95cd4d98c"
      },
      "outputs": [
        {
          "name": "stdout",
          "output_type": "stream",
          "text": [
            "+------+----+-----+---+--------+--------------+---------+--------+--------------+---------+-------+------+-------+------+----+--------+--------+----+------+-------------------+--------------------+----------+-----------+-----------------+----------+---------------+-------------+\n",
            "|    id|year|month|day|dep_time|sched_dep_time|dep_delay|arr_time|sched_arr_time|arr_delay|carrier|flight|tailnum|origin|dest|air_time|distance|hour|minute|          time_hour|                name|lat_origin|long_origin|         lat_dest| long_dest|origin_wind_spd|dest_wind_spd|\n",
            "+------+----+-----+---+--------+--------------+---------+--------+--------------+---------+-------+------+-------+------+----+--------+--------+----+------+-------------------+--------------------+----------+-----------+-----------------+----------+---------------+-------------+\n",
            "|  7072|2013|    1|  9|   641.0|           900|   1301.0|  1242.0|          1530|   1272.0|     HA|    51| N384HA|   JFK| HNL|   640.0|  4983.0|   9|     0|2013-01-09 09:00:00|Hawaiian Airlines...| 40.639801|   -73.7789|          21.3187| -157.9225|            3.5|          5.5|\n",
            "|235778|2013|    6| 15|  1432.0|          1935|   1137.0|  1607.0|          2120|   1127.0|     MQ|  3535| N504MQ|   JFK| CMH|    74.0|   483.0|  19|    35|2013-06-15 19:00:00|           Envoy Air| 40.639801|   -73.7789|        39.998001|-82.891899|            4.1|          1.9|\n",
            "|  8239|2013|    1| 10|  1121.0|          1635|   1126.0|  1239.0|          1810|   1109.0|     MQ|  3695| N517MQ|   EWR| ORD|   111.0|   719.0|  16|    35|2013-01-10 16:00:00|           Envoy Air| 40.692501| -74.168701|          41.9786|  -87.9048|            4.1|          4.1|\n",
            "|327043|2013|    9| 20|  1139.0|          1845|   1014.0|  1457.0|          2210|   1007.0|     AA|   177| N338AA|   JFK| SFO|   354.0|  2586.0|  18|    45|2013-09-20 18:00:00|American Airlines...| 40.639801|   -73.7789|37.61899948120117|  -122.375|            3.7|          4.3|\n",
            "|270376|2013|    7| 22|   845.0|          1600|   1005.0|  1044.0|          1815|    989.0|     MQ|  3075| N665MQ|   JFK| CVG|    96.0|   589.0|  16|     0|2013-07-22 16:00:00|           Envoy Air| 40.639801|   -73.7789|        39.048801|-84.667801|            3.2|          2.3|\n",
            "+------+----+-----+---+--------+--------------+---------+--------+--------------+---------+-------+------+-------+------+----+--------+--------+----+------+-------------------+--------------------+----------+-----------+-----------------+----------+---------------+-------------+\n",
            "\n"
          ]
        }
      ],
      "source": [
        "(\n",
        "  airports_db\n",
        "  .sort('arr_delay', ascending=False)\n",
        "  .limit(5)\n",
        "  .withColumn('dest_wind_spd', wind_speed_udf(F.col('year'), F.col('month'), F.col('day'), F.col('lat_dest'), F.col('long_dest')))\n",
        "  .show()\n",
        ")"
      ]
    },
    {
      "cell_type": "markdown",
      "metadata": {
        "id": "xY91EPIHBBPg"
      },
      "source": [
        "---"
      ]
    },
    {
      "cell_type": "markdown",
      "metadata": {
        "id": "3C8DfXMhChQ0"
      },
      "source": [
        "## **Modelo de ML**"
      ]
    },
    {
      "cell_type": "markdown",
      "metadata": {
        "id": "iWrPFhPLopVO"
      },
      "source": [
        "---"
      ]
    },
    {
      "cell_type": "markdown",
      "metadata": {
        "id": "f1tiKgpnjRSY"
      },
      "source": [
        "### **Pré-processamento**"
      ]
    },
    {
      "cell_type": "code",
      "execution_count": 119,
      "metadata": {
        "id": "WFg_W2WqEnCH"
      },
      "outputs": [],
      "source": [
        "import calendar\n",
        "import numpy as np\n",
        "from sklearn.model_selection import train_test_split\n",
        "from itertools import chain\n",
        "\n",
        "days_in_month = {k:calendar.monthrange(2013, k)[1] for k in range(1, 13)}\n",
        "days_in_month_mapping = F.create_map([F.lit(x) for x in chain(*days_in_month.items())])\n",
        "\n",
        "df = (\n",
        "    airports_db.select(\n",
        "      'month',\n",
        "      'day',\n",
        "      'hour',\n",
        "      (F.col('day') / days_in_month_mapping[F.col('month')]).alias('scaled_day'),\n",
        "      F.dayofweek('time_hour').alias('weekday'),\n",
        "      F.col('carrier'),\n",
        "      F.col('distance'),\n",
        "      F.col('origin_wind_spd').alias('wind_spd'),\n",
        "      F.col('arr_delay')\n",
        "    )\n",
        "    .where(F.col('arr_delay').isNotNull())\n",
        "    .toPandas()\n",
        ")\n",
        "\n",
        "X = df[['month', 'day', 'scaled_day', 'hour', 'weekday', 'carrier', 'distance', 'wind_spd']]\n",
        "y = df['arr_delay']\n",
        "\n",
        "X_train, X_test, y_train, y_test = train_test_split(X, y, train_size=0.8, random_state=42)\n",
        "X_val, X_test, y_val, y_test = train_test_split(X_test, y_test, train_size=0.5, random_state=42)"
      ]
    },
    {
      "cell_type": "markdown",
      "metadata": {
        "id": "v3_cdqG9o2eK"
      },
      "source": [
        "---"
      ]
    },
    {
      "cell_type": "markdown",
      "metadata": {
        "id": "6-NhYgVToval"
      },
      "source": [
        "### **Engenharia de features**"
      ]
    },
    {
      "cell_type": "code",
      "execution_count": 40,
      "metadata": {
        "id": "vK6OdFpKbuzE"
      },
      "outputs": [],
      "source": [
        "from sklearn.base import BaseEstimator, TransformerMixin\n",
        "\n",
        "\n",
        "class CosineEncoder(BaseEstimator, TransformerMixin):\n",
        "    def __init__(self, max_val):\n",
        "        self.max_val = max_val\n",
        "\n",
        "    def fit(self, X, y=None):\n",
        "        return self\n",
        "\n",
        "    def transform(self, X):\n",
        "        X_rad = X / self.max_val * 2 * np.pi\n",
        "        return np.cos(X_rad)\n"
      ]
    },
    {
      "cell_type": "code",
      "execution_count": 120,
      "metadata": {
        "id": "3CBPPEVDMZIG"
      },
      "outputs": [],
      "source": [
        "from sklearn.compose import ColumnTransformer\n",
        "from sklearn.preprocessing import OneHotEncoder\n",
        "from sklearn.preprocessing import MinMaxScaler\n",
        "\n",
        "preprocessor = ColumnTransformer(\n",
        "    transformers=[\n",
        "        ('month_cosine_encoder', CosineEncoder(max_val=12), ['month']),\n",
        "        ('day_cosine_encoder', CosineEncoder(max_val=1), ['scaled_day']),\n",
        "        ('hour_cosine_encoder', CosineEncoder(max_val=24), ['hour']),\n",
        "        ('weekday_cosine_encoder', CosineEncoder(max_val=7), ['weekday']),\n",
        "        ('month_onehot_encoder', OneHotEncoder(handle_unknown=\"ignore\", sparse_output=False), ['month']),\n",
        "        ('day_onehot_encoder', OneHotEncoder(handle_unknown=\"ignore\", sparse_output=False), ['day']),\n",
        "        ('hour_onehot_encoder', OneHotEncoder(handle_unknown=\"ignore\", sparse_output=False), ['hour']),\n",
        "        ('weekday_onehot_encoder', OneHotEncoder(handle_unknown=\"ignore\", sparse_output=False), ['weekday']),\n",
        "        ('carrier_onehot_encoder', OneHotEncoder(handle_unknown=\"ignore\", sparse_output=False), ['carrier']),\n",
        "        ('distance_minmax_encoder', MinMaxScaler(), ['distance']),\n",
        "        ('origin_wind_spd_minmax_encoder', MinMaxScaler(), ['wind_spd'])\n",
        "    ]\n",
        ")"
      ]
    },
    {
      "cell_type": "markdown",
      "metadata": {
        "id": "Mx3LG0PtpRxC"
      },
      "source": [
        "---"
      ]
    },
    {
      "cell_type": "markdown",
      "metadata": {
        "id": "sBFOS18iwWR5"
      },
      "source": [
        "### **Treinamento do modelo + Ajuste de Hyperparâmetros**"
      ]
    },
    {
      "cell_type": "code",
      "execution_count": 125,
      "metadata": {
        "colab": {
          "base_uri": "https://localhost:8080/"
        },
        "id": "JuTNtoPtJyxD",
        "outputId": "03672d28-1db6-4d08-fbac-572498179eb8"
      },
      "outputs": [
        {
          "name": "stdout",
          "output_type": "stream",
          "text": [
            "model=linear_regression | val_mse=1836.0648434126583 | train_mse=1892.3152697669436 | r²=0.0552175913100762 | params={'regressor__alpha': 0.1, 'regressor__eta0': 0.1}\n",
            "model=linear_regression | val_mse=1822.9798146909118 | train_mse=1876.290332125478 | r²=0.06195074400773948 | params={'regressor__alpha': 0.1, 'regressor__eta0': 0.01}\n",
            "model=linear_regression | val_mse=1820.5009251527613 | train_mse=1874.2687215549029 | r²=0.06322630420221342 | params={'regressor__alpha': 0.1, 'regressor__eta0': 0.001}\n",
            "model=linear_regression | val_mse=1775.5849304466822 | train_mse=1830.0880165751057 | r²=0.08633869144679385 | params={'regressor__alpha': 0.01, 'regressor__eta0': 0.1}\n",
            "model=linear_regression | val_mse=1769.6205165715132 | train_mse=1821.013498917082 | r²=0.08940779509398955 | params={'regressor__alpha': 0.01, 'regressor__eta0': 0.01}\n",
            "model=linear_regression | val_mse=1767.3238644296575 | train_mse=1819.7838255210954 | r²=0.09058958153812857 | params={'regressor__alpha': 0.01, 'regressor__eta0': 0.001}\n",
            "model=linear_regression | val_mse=1773.764319897079 | train_mse=1822.916470741202 | r²=0.08727552155195673 | params={'regressor__alpha': 0.001, 'regressor__eta0': 0.1}\n",
            "model=linear_regression | val_mse=1763.2552046034948 | train_mse=1815.9434454420812 | r²=0.0926831885501539 | params={'regressor__alpha': 0.001, 'regressor__eta0': 0.01}\n",
            "model=linear_regression | val_mse=1763.4143533233091 | train_mse=1815.174422946037 | r²=0.09260129552149232 | params={'regressor__alpha': 0.001, 'regressor__eta0': 0.001}\n",
            "model=xgboost | val_mse=1309.9993281110524 | train_mse=959.3658503147211 | r²=0.32591470010693147 | params={'regressor__eta': 0.3, 'regressor__max_depth': 7, 'regressor__min_child_weight': 1, 'regressor__n_estimators': 300}\n",
            "model=xgboost | val_mse=1314.0283973658668 | train_mse=882.8876940009025 | r²=0.3238414651833398 | params={'regressor__eta': 0.3, 'regressor__max_depth': 7, 'regressor__min_child_weight': 1, 'regressor__n_estimators': 400}\n",
            "model=xgboost | val_mse=1317.7975605940594 | train_mse=818.7030661170219 | r²=0.32190196989467745 | params={'regressor__eta': 0.3, 'regressor__max_depth': 7, 'regressor__min_child_weight': 1, 'regressor__n_estimators': 500}\n",
            "model=xgboost | val_mse=1313.8513175166943 | train_mse=981.2293691496974 | r²=0.32393258501880307 | params={'regressor__eta': 0.3, 'regressor__max_depth': 7, 'regressor__min_child_weight': 2, 'regressor__n_estimators': 300}\n",
            "model=xgboost | val_mse=1317.085980452389 | train_mse=910.3616033270948 | r²=0.3222681271154505 | params={'regressor__eta': 0.3, 'regressor__max_depth': 7, 'regressor__min_child_weight': 2, 'regressor__n_estimators': 400}\n",
            "model=xgboost | val_mse=1323.2958742441072 | train_mse=851.4378241199722 | r²=0.3190727070651743 | params={'regressor__eta': 0.3, 'regressor__max_depth': 7, 'regressor__min_child_weight': 2, 'regressor__n_estimators': 500}\n",
            "model=xgboost | val_mse=1319.166729140649 | train_mse=1003.3230897603066 | r²=0.3211974379376551 | params={'regressor__eta': 0.3, 'regressor__max_depth': 7, 'regressor__min_child_weight': 3, 'regressor__n_estimators': 300}\n",
            "model=xgboost | val_mse=1322.4673551482065 | train_mse=935.8202675699406 | r²=0.3194990374695056 | params={'regressor__eta': 0.3, 'regressor__max_depth': 7, 'regressor__min_child_weight': 3, 'regressor__n_estimators': 400}\n",
            "model=xgboost | val_mse=1324.8808655334517 | train_mse=878.4320426649185 | r²=0.31825711937312084 | params={'regressor__eta': 0.3, 'regressor__max_depth': 7, 'regressor__min_child_weight': 3, 'regressor__n_estimators': 500}\n",
            "model=xgboost | val_mse=1317.0005002384937 | train_mse=1023.5388717577948 | r²=0.32231211260031467 | params={'regressor__eta': 0.3, 'regressor__max_depth': 7, 'regressor__min_child_weight': 4, 'regressor__n_estimators': 300}\n",
            "model=xgboost | val_mse=1317.9750997404128 | train_mse=954.6122349452075 | r²=0.3218106137190334 | params={'regressor__eta': 0.3, 'regressor__max_depth': 7, 'regressor__min_child_weight': 4, 'regressor__n_estimators': 400}\n",
            "model=xgboost | val_mse=1317.9301097982095 | train_mse=898.7585984494 | r²=0.3218337641573822 | params={'regressor__eta': 0.3, 'regressor__max_depth': 7, 'regressor__min_child_weight': 4, 'regressor__n_estimators': 500}\n",
            "model=xgboost | val_mse=1338.9786821530884 | train_mse=778.5683036671471 | r²=0.3110028172219982 | params={'regressor__eta': 0.3, 'regressor__max_depth': 8, 'regressor__min_child_weight': 1, 'regressor__n_estimators': 300}\n",
            "model=xgboost | val_mse=1348.8183109522652 | train_mse=690.0544764547423 | r²=0.3059396473503818 | params={'regressor__eta': 0.3, 'regressor__max_depth': 8, 'regressor__min_child_weight': 1, 'regressor__n_estimators': 400}\n",
            "model=xgboost | val_mse=1364.7887030971096 | train_mse=616.2414984147422 | r²=0.29772177551842405 | params={'regressor__eta': 0.3, 'regressor__max_depth': 8, 'regressor__min_child_weight': 1, 'regressor__n_estimators': 500}\n",
            "model=xgboost | val_mse=1333.2385493058428 | train_mse=811.3806525730447 | r²=0.31395651276117154 | params={'regressor__eta': 0.3, 'regressor__max_depth': 8, 'regressor__min_child_weight': 2, 'regressor__n_estimators': 300}\n",
            "model=xgboost | val_mse=1342.3223948015502 | train_mse=726.9103547809699 | r²=0.3092822456957176 | params={'regressor__eta': 0.3, 'regressor__max_depth': 8, 'regressor__min_child_weight': 2, 'regressor__n_estimators': 400}\n",
            "model=xgboost | val_mse=1357.6776455275754 | train_mse=655.6862219358056 | r²=0.3013809066885357 | params={'regressor__eta': 0.3, 'regressor__max_depth': 8, 'regressor__min_child_weight': 2, 'regressor__n_estimators': 500}\n",
            "model=xgboost | val_mse=1320.7920957453941 | train_mse=850.8090439775648 | r²=0.32036107435205263 | params={'regressor__eta': 0.3, 'regressor__max_depth': 8, 'regressor__min_child_weight': 3, 'regressor__n_estimators': 300}\n",
            "model=xgboost | val_mse=1333.6285494003953 | train_mse=768.3482799396564 | r²=0.3137558307264151 | params={'regressor__eta': 0.3, 'regressor__max_depth': 8, 'regressor__min_child_weight': 3, 'regressor__n_estimators': 400}\n",
            "model=xgboost | val_mse=1348.1919720087078 | train_mse=697.9365558109724 | r²=0.30626194207644963 | params={'regressor__eta': 0.3, 'regressor__max_depth': 8, 'regressor__min_child_weight': 3, 'regressor__n_estimators': 500}\n",
            "model=xgboost | val_mse=1318.9679241081283 | train_mse=867.1908419615836 | r²=0.321299736883228 | params={'regressor__eta': 0.3, 'regressor__max_depth': 8, 'regressor__min_child_weight': 4, 'regressor__n_estimators': 300}\n",
            "model=xgboost | val_mse=1329.691091892484 | train_mse=786.3156498708538 | r²=0.31578192506713787 | params={'regressor__eta': 0.3, 'regressor__max_depth': 8, 'regressor__min_child_weight': 4, 'regressor__n_estimators': 400}\n",
            "model=xgboost | val_mse=1341.14090354865 | train_mse=724.7826067868556 | r²=0.30989020469878115 | params={'regressor__eta': 0.3, 'regressor__max_depth': 8, 'regressor__min_child_weight': 4, 'regressor__n_estimators': 500}\n",
            "model=xgboost | val_mse=1366.842812746676 | train_mse=597.4119289867334 | r²=0.29666479396932843 | params={'regressor__eta': 0.3, 'regressor__max_depth': 9, 'regressor__min_child_weight': 1, 'regressor__n_estimators': 300}\n",
            "model=xgboost | val_mse=1387.0875344017807 | train_mse=499.72914672035785 | r²=0.28624748384153553 | params={'regressor__eta': 0.3, 'regressor__max_depth': 9, 'regressor__min_child_weight': 1, 'regressor__n_estimators': 400}\n",
            "model=xgboost | val_mse=1406.9289661798744 | train_mse=428.2645146783377 | r²=0.2760376942611624 | params={'regressor__eta': 0.3, 'regressor__max_depth': 9, 'regressor__min_child_weight': 1, 'regressor__n_estimators': 500}\n",
            "model=xgboost | val_mse=1361.3096573573503 | train_mse=651.9529814574609 | r²=0.2995119852845688 | params={'regressor__eta': 0.3, 'regressor__max_depth': 9, 'regressor__min_child_weight': 2, 'regressor__n_estimators': 300}\n",
            "model=xgboost | val_mse=1380.2976386457135 | train_mse=557.6671825761127 | r²=0.28974135503578347 | params={'regressor__eta': 0.3, 'regressor__max_depth': 9, 'regressor__min_child_weight': 2, 'regressor__n_estimators': 400}\n",
            "model=xgboost | val_mse=1402.942857078078 | train_mse=483.0262441906253 | r²=0.2780888232133927 | params={'regressor__eta': 0.3, 'regressor__max_depth': 9, 'regressor__min_child_weight': 2, 'regressor__n_estimators': 500}\n",
            "model=xgboost | val_mse=1340.928353177294 | train_mse=687.3598897790772 | r²=0.3099995765722954 | params={'regressor__eta': 0.3, 'regressor__max_depth': 9, 'regressor__min_child_weight': 3, 'regressor__n_estimators': 300}\n",
            "model=xgboost | val_mse=1364.3779868844645 | train_mse=596.0341288837378 | r²=0.29793311742939366 | params={'regressor__eta': 0.3, 'regressor__max_depth': 9, 'regressor__min_child_weight': 3, 'regressor__n_estimators': 400}\n",
            "model=xgboost | val_mse=1384.9718975144744 | train_mse=523.0073998209689 | r²=0.28733612541183406 | params={'regressor__eta': 0.3, 'regressor__max_depth': 9, 'regressor__min_child_weight': 3, 'regressor__n_estimators': 500}\n",
            "model=xgboost | val_mse=1340.799082413073 | train_mse=725.2749697004248 | r²=0.310066095325395 | params={'regressor__eta': 0.3, 'regressor__max_depth': 9, 'regressor__min_child_weight': 4, 'regressor__n_estimators': 300}\n",
            "model=xgboost | val_mse=1363.397206851643 | train_mse=635.578627770818 | r²=0.29843779662148684 | params={'regressor__eta': 0.3, 'regressor__max_depth': 9, 'regressor__min_child_weight': 4, 'regressor__n_estimators': 400}\n",
            "model=xgboost | val_mse=1387.4924645123554 | train_mse=563.3631561106887 | r²=0.28603911928045145 | params={'regressor__eta': 0.3, 'regressor__max_depth': 9, 'regressor__min_child_weight': 4, 'regressor__n_estimators': 500}\n",
            "model=xgboost | val_mse=1390.7520935552589 | train_mse=428.4369618288777 | r²=0.28436181458740695 | params={'regressor__eta': 0.3, 'regressor__max_depth': 10, 'regressor__min_child_weight': 1, 'regressor__n_estimators': 300}\n",
            "model=xgboost | val_mse=1423.6080388277664 | train_mse=333.6570560541062 | r²=0.26745515727314384 | params={'regressor__eta': 0.3, 'regressor__max_depth': 10, 'regressor__min_child_weight': 1, 'regressor__n_estimators': 400}\n",
            "model=xgboost | val_mse=1448.6425521704703 | train_mse=266.81986008686033 | r²=0.2545731678918005 | params={'regressor__eta': 0.3, 'regressor__max_depth': 10, 'regressor__min_child_weight': 1, 'regressor__n_estimators': 500}\n",
            "model=xgboost | val_mse=1404.5709703114264 | train_mse=476.982698494704 | r²=0.27725104629732056 | params={'regressor__eta': 0.3, 'regressor__max_depth': 10, 'regressor__min_child_weight': 2, 'regressor__n_estimators': 300}\n",
            "model=xgboost | val_mse=1429.6543743390696 | train_mse=386.27874112117576 | r²=0.26434389927557833 | params={'regressor__eta': 0.3, 'regressor__max_depth': 10, 'regressor__min_child_weight': 2, 'regressor__n_estimators': 400}\n",
            "model=xgboost | val_mse=1455.5984402971483 | train_mse=314.8871076327839 | r²=0.2509938821370089 | params={'regressor__eta': 0.3, 'regressor__max_depth': 10, 'regressor__min_child_weight': 2, 'regressor__n_estimators': 500}\n",
            "model=xgboost | val_mse=1395.2659049326112 | train_mse=526.5154144137027 | r²=0.28203914629997295 | params={'regressor__eta': 0.3, 'regressor__max_depth': 10, 'regressor__min_child_weight': 3, 'regressor__n_estimators': 300}\n",
            "model=xgboost | val_mse=1427.5748854562785 | train_mse=433.5214945382253 | r²=0.2654139401962876 | params={'regressor__eta': 0.3, 'regressor__max_depth': 10, 'regressor__min_child_weight': 3, 'regressor__n_estimators': 400}\n",
            "model=xgboost | val_mse=1454.123629468304 | train_mse=365.37980486834283 | r²=0.2517527743581832 | params={'regressor__eta': 0.3, 'regressor__max_depth': 10, 'regressor__min_child_weight': 3, 'regressor__n_estimators': 500}\n",
            "model=xgboost | val_mse=1367.6418755312582 | train_mse=579.6459975475764 | r²=0.29625362087540374 | params={'regressor__eta': 0.3, 'regressor__max_depth': 10, 'regressor__min_child_weight': 4, 'regressor__n_estimators': 300}\n",
            "model=xgboost | val_mse=1397.9121920780028 | train_mse=485.93552964748 | r²=0.28067744845347364 | params={'regressor__eta': 0.3, 'regressor__max_depth': 10, 'regressor__min_child_weight': 4, 'regressor__n_estimators': 400}\n",
            "model=xgboost | val_mse=1423.820586507098 | train_mse=416.70700611745053 | r²=0.2673457867848624 | params={'regressor__eta': 0.3, 'regressor__max_depth': 10, 'regressor__min_child_weight': 4, 'regressor__n_estimators': 500}\n",
            "model=xgboost | val_mse=1355.3007726796845 | train_mse=1220.3497140105228 | r²=0.30260397223681224 | params={'regressor__eta': 0.1, 'regressor__max_depth': 7, 'regressor__min_child_weight': 1, 'regressor__n_estimators': 300}\n",
            "model=xgboost | val_mse=1334.3408919292178 | train_mse=1159.3656183541516 | r²=0.3133892812046988 | params={'regressor__eta': 0.1, 'regressor__max_depth': 7, 'regressor__min_child_weight': 1, 'regressor__n_estimators': 400}\n",
            "model=xgboost | val_mse=1323.2282465210976 | train_mse=1106.7339952142013 | r²=0.3191075062081722 | params={'regressor__eta': 0.1, 'regressor__max_depth': 7, 'regressor__min_child_weight': 1, 'regressor__n_estimators': 500}\n",
            "model=xgboost | val_mse=1356.6537903631317 | train_mse=1241.3506243211377 | r²=0.30190775101643785 | params={'regressor__eta': 0.1, 'regressor__max_depth': 7, 'regressor__min_child_weight': 2, 'regressor__n_estimators': 300}\n",
            "model=xgboost | val_mse=1336.1604884408396 | train_mse=1180.1414256557496 | r²=0.3124529728922437 | params={'regressor__eta': 0.1, 'regressor__max_depth': 7, 'regressor__min_child_weight': 2, 'regressor__n_estimators': 400}\n",
            "model=xgboost | val_mse=1326.0802853676616 | train_mse=1134.308867419963 | r²=0.3176399348744029 | params={'regressor__eta': 0.1, 'regressor__max_depth': 7, 'regressor__min_child_weight': 2, 'regressor__n_estimators': 500}\n",
            "model=xgboost | val_mse=1348.0324406106427 | train_mse=1242.978692950867 | r²=0.30634403201955074 | params={'regressor__eta': 0.1, 'regressor__max_depth': 7, 'regressor__min_child_weight': 3, 'regressor__n_estimators': 300}\n",
            "model=xgboost | val_mse=1330.5419754725594 | train_mse=1188.0784331465572 | r²=0.31534408658818525 | params={'regressor__eta': 0.1, 'regressor__max_depth': 7, 'regressor__min_child_weight': 3, 'regressor__n_estimators': 400}\n",
            "model=xgboost | val_mse=1317.9402276277656 | train_mse=1140.6636162178313 | r²=0.321828557833971 | params={'regressor__eta': 0.1, 'regressor__max_depth': 7, 'regressor__min_child_weight': 3, 'regressor__n_estimators': 500}\n",
            "model=xgboost | val_mse=1350.7234415588246 | train_mse=1245.8267896869258 | r²=0.30495932582753815 | params={'regressor__eta': 0.1, 'regressor__max_depth': 7, 'regressor__min_child_weight': 4, 'regressor__n_estimators': 300}\n",
            "model=xgboost | val_mse=1332.178072373364 | train_mse=1192.4832302227367 | r²=0.31450220152277586 | params={'regressor__eta': 0.1, 'regressor__max_depth': 7, 'regressor__min_child_weight': 4, 'regressor__n_estimators': 400}\n",
            "model=xgboost | val_mse=1321.5031060307276 | train_mse=1150.094015194938 | r²=0.3199952103617961 | params={'regressor__eta': 0.1, 'regressor__max_depth': 7, 'regressor__min_child_weight': 4, 'regressor__n_estimators': 500}\n",
            "model=xgboost | val_mse=1327.1392682555097 | train_mse=1094.708239193095 | r²=0.31709501490214154 | params={'regressor__eta': 0.1, 'regressor__max_depth': 8, 'regressor__min_child_weight': 1, 'regressor__n_estimators': 300}\n",
            "model=xgboost | val_mse=1317.2036318708645 | train_mse=1026.8354324046823 | r²=0.3222075873197392 | params={'regressor__eta': 0.1, 'regressor__max_depth': 8, 'regressor__min_child_weight': 1, 'regressor__n_estimators': 400}\n",
            "model=xgboost | val_mse=1311.4797528830059 | train_mse=969.9190444387791 | r²=0.3251529191235699 | params={'regressor__eta': 0.1, 'regressor__max_depth': 8, 'regressor__min_child_weight': 1, 'regressor__n_estimators': 500}\n",
            "model=xgboost | val_mse=1324.5336663155733 | train_mse=1114.930596054868 | r²=0.318435777395216 | params={'regressor__eta': 0.1, 'regressor__max_depth': 8, 'regressor__min_child_weight': 2, 'regressor__n_estimators': 300}\n",
            "model=xgboost | val_mse=1313.0388500821598 | train_mse=1046.528657953435 | r²=0.32435065573266453 | params={'regressor__eta': 0.1, 'regressor__max_depth': 8, 'regressor__min_child_weight': 2, 'regressor__n_estimators': 400}\n",
            "model=xgboost | val_mse=1306.6659550641018 | train_mse=992.0104259828116 | r²=0.3276299511927845 | params={'regressor__eta': 0.1, 'regressor__max_depth': 8, 'regressor__min_child_weight': 2, 'regressor__n_estimators': 500}\n",
            "model=xgboost | val_mse=1324.742684407584 | train_mse=1134.0405267762735 | r²=0.31832822312384146 | params={'regressor__eta': 0.1, 'regressor__max_depth': 8, 'regressor__min_child_weight': 3, 'regressor__n_estimators': 300}\n",
            "model=xgboost | val_mse=1310.6001652954324 | train_mse=1073.0566705254964 | r²=0.32560552780055796 | params={'regressor__eta': 0.1, 'regressor__max_depth': 8, 'regressor__min_child_weight': 3, 'regressor__n_estimators': 400}\n",
            "model=xgboost | val_mse=1302.6731684089762 | train_mse=1016.2204727904276 | r²=0.3296845162082569 | params={'regressor__eta': 0.1, 'regressor__max_depth': 8, 'regressor__min_child_weight': 3, 'regressor__n_estimators': 500}\n",
            "model=xgboost | val_mse=1323.3586246558941 | train_mse=1144.5009561316454 | r²=0.31904041763628677 | params={'regressor__eta': 0.1, 'regressor__max_depth': 8, 'regressor__min_child_weight': 4, 'regressor__n_estimators': 300}\n",
            "model=xgboost | val_mse=1311.6588623057512 | train_mse=1084.894041327134 | r²=0.3250607549320669 | params={'regressor__eta': 0.1, 'regressor__max_depth': 8, 'regressor__min_child_weight': 4, 'regressor__n_estimators': 400}\n",
            "model=xgboost | val_mse=1303.6287479041277 | train_mse=1033.997386281173 | r²=0.3291928044365495 | params={'regressor__eta': 0.1, 'regressor__max_depth': 8, 'regressor__min_child_weight': 4, 'regressor__n_estimators': 500}\n",
            "model=xgboost | val_mse=1320.5344137821714 | train_mse=961.4007419074612 | r²=0.32049366955246894 | params={'regressor__eta': 0.1, 'regressor__max_depth': 9, 'regressor__min_child_weight': 1, 'regressor__n_estimators': 300}\n",
            "model=xgboost | val_mse=1319.836133959978 | train_mse=884.029503854372 | r²=0.3208529828385537 | params={'regressor__eta': 0.1, 'regressor__max_depth': 9, 'regressor__min_child_weight': 1, 'regressor__n_estimators': 400}\n",
            "model=xgboost | val_mse=1317.327683998234 | train_mse=819.9677996901031 | r²=0.32214375391640393 | params={'regressor__eta': 0.1, 'regressor__max_depth': 9, 'regressor__min_child_weight': 1, 'regressor__n_estimators': 500}\n",
            "model=xgboost | val_mse=1307.852991339287 | train_mse=988.5529974491607 | r²=0.3270191388920668 | params={'regressor__eta': 0.1, 'regressor__max_depth': 9, 'regressor__min_child_weight': 2, 'regressor__n_estimators': 300}\n",
            "model=xgboost | val_mse=1304.4324422023324 | train_mse=913.0326038878371 | r²=0.328779248108388 | params={'regressor__eta': 0.1, 'regressor__max_depth': 9, 'regressor__min_child_weight': 2, 'regressor__n_estimators': 400}\n",
            "model=xgboost | val_mse=1302.5060199148636 | train_mse=842.6152179119439 | r²=0.3297705256743404 | params={'regressor__eta': 0.1, 'regressor__max_depth': 9, 'regressor__min_child_weight': 2, 'regressor__n_estimators': 500}\n",
            "model=xgboost | val_mse=1307.7890676780098 | train_mse=1022.9562561838833 | r²=0.32705203203900013 | params={'regressor__eta': 0.1, 'regressor__max_depth': 9, 'regressor__min_child_weight': 3, 'regressor__n_estimators': 300}\n",
            "model=xgboost | val_mse=1301.7506792673628 | train_mse=951.1471157335053 | r²=0.33015920070337734 | params={'regressor__eta': 0.1, 'regressor__max_depth': 9, 'regressor__min_child_weight': 3, 'regressor__n_estimators': 400}\n",
            "model=xgboost | val_mse=1298.2430886337515 | train_mse=886.439535324982 | r²=0.3319640987925766 | params={'regressor__eta': 0.1, 'regressor__max_depth': 9, 'regressor__min_child_weight': 3, 'regressor__n_estimators': 500}\n",
            "model=xgboost | val_mse=1306.2466828344427 | train_mse=1038.1362913479359 | r²=0.32784569576654243 | params={'regressor__eta': 0.1, 'regressor__max_depth': 9, 'regressor__min_child_weight': 4, 'regressor__n_estimators': 300}\n",
            "model=xgboost | val_mse=1296.2485742971849 | train_mse=966.3301994926203 | r²=0.3329904144294282 | params={'regressor__eta': 0.1, 'regressor__max_depth': 9, 'regressor__min_child_weight': 4, 'regressor__n_estimators': 400}\n",
            "model=xgboost | val_mse=1293.8394150164584 | train_mse=913.8974390836265 | r²=0.33423009358146294 | params={'regressor__eta': 0.1, 'regressor__max_depth': 9, 'regressor__min_child_weight': 4, 'regressor__n_estimators': 500}\n",
            "model=xgboost | val_mse=1307.6871287122196 | train_mse=834.3171970143479 | r²=0.3271044866905797 | params={'regressor__eta': 0.1, 'regressor__max_depth': 10, 'regressor__min_child_weight': 1, 'regressor__n_estimators': 300}\n",
            "model=xgboost | val_mse=1311.4050572061901 | train_mse=737.5697518880083 | r²=0.325191355217869 | params={'regressor__eta': 0.1, 'regressor__max_depth': 10, 'regressor__min_child_weight': 1, 'regressor__n_estimators': 400}\n",
            "model=xgboost | val_mse=1318.0552079768472 | train_mse=664.8561908660195 | r²=0.32176939248828773 | params={'regressor__eta': 0.1, 'regressor__max_depth': 10, 'regressor__min_child_weight': 1, 'regressor__n_estimators': 500}\n",
            "model=xgboost | val_mse=1310.254276489967 | train_mse=860.2991362796888 | r²=0.32578351152479246 | params={'regressor__eta': 0.1, 'regressor__max_depth': 10, 'regressor__min_child_weight': 2, 'regressor__n_estimators': 300}\n",
            "model=xgboost | val_mse=1309.0729079751425 | train_mse=771.8123605827274 | r²=0.3263914073706232 | params={'regressor__eta': 0.1, 'regressor__max_depth': 10, 'regressor__min_child_weight': 2, 'regressor__n_estimators': 400}\n",
            "model=xgboost | val_mse=1315.0004162806913 | train_mse=699.5593812531762 | r²=0.32334129419268276 | params={'regressor__eta': 0.1, 'regressor__max_depth': 10, 'regressor__min_child_weight': 2, 'regressor__n_estimators': 500}\n",
            "model=xgboost | val_mse=1306.6494463447832 | train_mse=903.439473597892 | r²=0.32763844607119685 | params={'regressor__eta': 0.1, 'regressor__max_depth': 10, 'regressor__min_child_weight': 3, 'regressor__n_estimators': 300}\n",
            "model=xgboost | val_mse=1306.1548753346099 | train_mse=815.5657455139991 | r²=0.32789293707783873 | params={'regressor__eta': 0.1, 'regressor__max_depth': 10, 'regressor__min_child_weight': 3, 'regressor__n_estimators': 400}\n",
            "model=xgboost | val_mse=1310.5433678848506 | train_mse=742.8320656159145 | r²=0.3256347539984068 | params={'regressor__eta': 0.1, 'regressor__max_depth': 10, 'regressor__min_child_weight': 3, 'regressor__n_estimators': 500}\n",
            "model=xgboost | val_mse=1302.6679958691066 | train_mse=930.964244043908 | r²=0.32968717783793444 | params={'regressor__eta': 0.1, 'regressor__max_depth': 10, 'regressor__min_child_weight': 4, 'regressor__n_estimators': 300}\n",
            "model=xgboost | val_mse=1299.9365370705723 | train_mse=844.670088278945 | r²=0.3310927023934397 | params={'regressor__eta': 0.1, 'regressor__max_depth': 10, 'regressor__min_child_weight': 4, 'regressor__n_estimators': 400}\n",
            "model=xgboost | val_mse=1301.5961958866928 | train_mse=779.9701293330788 | r²=0.3302386930922304 | params={'regressor__eta': 0.1, 'regressor__max_depth': 10, 'regressor__min_child_weight': 4, 'regressor__n_estimators': 500}\n",
            "model=xgboost | val_mse=1464.3166274100256 | train_mse=1436.935366228937 | r²=0.2465077716113021 | params={'regressor__eta': 0.03, 'regressor__max_depth': 7, 'regressor__min_child_weight': 1, 'regressor__n_estimators': 300}\n",
            "model=xgboost | val_mse=1434.9474780343835 | train_mse=1392.9651981110824 | r²=0.26162023116731625 | params={'regressor__eta': 0.03, 'regressor__max_depth': 7, 'regressor__min_child_weight': 1, 'regressor__n_estimators': 400}\n",
            "model=xgboost | val_mse=1414.5254886341183 | train_mse=1357.2208513233709 | r²=0.2721287578160596 | params={'regressor__eta': 0.03, 'regressor__max_depth': 7, 'regressor__min_child_weight': 1, 'regressor__n_estimators': 500}\n",
            "model=xgboost | val_mse=1469.7010851528796 | train_mse=1444.9725686742443 | r²=0.2437370955243251 | params={'regressor__eta': 0.03, 'regressor__max_depth': 7, 'regressor__min_child_weight': 2, 'regressor__n_estimators': 300}\n",
            "model=xgboost | val_mse=1438.851651167834 | train_mse=1400.1482165983407 | r²=0.25961126394037026 | params={'regressor__eta': 0.03, 'regressor__max_depth': 7, 'regressor__min_child_weight': 2, 'regressor__n_estimators': 400}\n",
            "model=xgboost | val_mse=1415.3033745648147 | train_mse=1363.4485347947416 | r²=0.2717284816787946 | params={'regressor__eta': 0.03, 'regressor__max_depth': 7, 'regressor__min_child_weight': 2, 'regressor__n_estimators': 500}\n",
            "model=xgboost | val_mse=1465.23610442241 | train_mse=1448.5607360840772 | r²=0.24603463706509454 | params={'regressor__eta': 0.03, 'regressor__max_depth': 7, 'regressor__min_child_weight': 3, 'regressor__n_estimators': 300}\n",
            "model=xgboost | val_mse=1434.563448958605 | train_mse=1403.4014151945717 | r²=0.2618178406997479 | params={'regressor__eta': 0.03, 'regressor__max_depth': 7, 'regressor__min_child_weight': 3, 'regressor__n_estimators': 400}\n",
            "model=xgboost | val_mse=1412.027206765114 | train_mse=1366.7494015521074 | r²=0.27341429670661277 | params={'regressor__eta': 0.03, 'regressor__max_depth': 7, 'regressor__min_child_weight': 3, 'regressor__n_estimators': 500}\n",
            "model=xgboost | val_mse=1464.6324042744923 | train_mse=1449.0279503820389 | r²=0.24634528256431143 | params={'regressor__eta': 0.03, 'regressor__max_depth': 7, 'regressor__min_child_weight': 4, 'regressor__n_estimators': 300}\n",
            "model=xgboost | val_mse=1435.0828049106422 | train_mse=1407.3686631207165 | r²=0.2615505961255198 | params={'regressor__eta': 0.03, 'regressor__max_depth': 7, 'regressor__min_child_weight': 4, 'regressor__n_estimators': 400}\n",
            "model=xgboost | val_mse=1414.4833755066177 | train_mse=1373.6064075213858 | r²=0.2721504279341822 | params={'regressor__eta': 0.03, 'regressor__max_depth': 7, 'regressor__min_child_weight': 4, 'regressor__n_estimators': 500}\n",
            "model=xgboost | val_mse=1421.1139128158345 | train_mse=1344.692024040796 | r²=0.2687385576876681 | params={'regressor__eta': 0.03, 'regressor__max_depth': 8, 'regressor__min_child_weight': 1, 'regressor__n_estimators': 300}\n",
            "model=xgboost | val_mse=1392.2252419052838 | train_mse=1294.0806988944817 | r²=0.2836037778266206 | params={'regressor__eta': 0.03, 'regressor__max_depth': 8, 'regressor__min_child_weight': 1, 'regressor__n_estimators': 400}\n",
            "model=xgboost | val_mse=1377.248703646871 | train_mse=1257.5882733902658 | r²=0.29131024306415576 | params={'regressor__eta': 0.03, 'regressor__max_depth': 8, 'regressor__min_child_weight': 1, 'regressor__n_estimators': 500}\n",
            "model=xgboost | val_mse=1420.499768113342 | train_mse=1354.9549203542267 | r²=0.26905457763292584 | params={'regressor__eta': 0.03, 'regressor__max_depth': 8, 'regressor__min_child_weight': 2, 'regressor__n_estimators': 300}\n",
            "model=xgboost | val_mse=1392.1270140841912 | train_mse=1302.984388409691 | r²=0.28365432283746017 | params={'regressor__eta': 0.03, 'regressor__max_depth': 8, 'regressor__min_child_weight': 2, 'regressor__n_estimators': 400}\n",
            "model=xgboost | val_mse=1376.997677878753 | train_mse=1268.0485358994665 | r²=0.29143941319161426 | params={'regressor__eta': 0.03, 'regressor__max_depth': 8, 'regressor__min_child_weight': 2, 'regressor__n_estimators': 500}\n",
            "model=xgboost | val_mse=1419.6451194888712 | train_mse=1355.244306772803 | r²=0.26949435348774275 | params={'regressor__eta': 0.03, 'regressor__max_depth': 8, 'regressor__min_child_weight': 3, 'regressor__n_estimators': 300}\n",
            "model=xgboost | val_mse=1389.7653279350698 | train_mse=1306.4324039800933 | r²=0.2848695737783742 | params={'regressor__eta': 0.03, 'regressor__max_depth': 8, 'regressor__min_child_weight': 3, 'regressor__n_estimators': 400}\n",
            "model=xgboost | val_mse=1374.6655965512628 | train_mse=1273.7985639524102 | r²=0.29263943040328955 | params={'regressor__eta': 0.03, 'regressor__max_depth': 8, 'regressor__min_child_weight': 3, 'regressor__n_estimators': 500}\n",
            "model=xgboost | val_mse=1423.2925887406595 | train_mse=1369.1252038585446 | r²=0.2676174781705716 | params={'regressor__eta': 0.03, 'regressor__max_depth': 8, 'regressor__min_child_weight': 4, 'regressor__n_estimators': 300}\n",
            "model=xgboost | val_mse=1396.7109184292365 | train_mse=1323.7274243793413 | r²=0.2812955868680558 | params={'regressor__eta': 0.03, 'regressor__max_depth': 8, 'regressor__min_child_weight': 4, 'regressor__n_estimators': 400}\n",
            "model=xgboost | val_mse=1377.3639986568076 | train_mse=1286.245637482509 | r²=0.29125091580368956 | params={'regressor__eta': 0.03, 'regressor__max_depth': 8, 'regressor__min_child_weight': 4, 'regressor__n_estimators': 500}\n",
            "model=xgboost | val_mse=1387.8785454490762 | train_mse=1241.0555664836736 | r²=0.28584045392358615 | params={'regressor__eta': 0.03, 'regressor__max_depth': 9, 'regressor__min_child_weight': 1, 'regressor__n_estimators': 300}\n",
            "model=xgboost | val_mse=1368.2930745475155 | train_mse=1188.0790309740726 | r²=0.29591853392173584 | params={'regressor__eta': 0.03, 'regressor__max_depth': 9, 'regressor__min_child_weight': 1, 'regressor__n_estimators': 400}\n",
            "model=xgboost | val_mse=1353.8509584252668 | train_mse=1145.6366355678113 | r²=0.30335000199080286 | params={'regressor__eta': 0.03, 'regressor__max_depth': 9, 'regressor__min_child_weight': 1, 'regressor__n_estimators': 500}\n",
            "model=xgboost | val_mse=1382.8038394005619 | train_mse=1258.9240018383275 | r²=0.2884517413305152 | params={'regressor__eta': 0.03, 'regressor__max_depth': 9, 'regressor__min_child_weight': 2, 'regressor__n_estimators': 300}\n",
            "model=xgboost | val_mse=1361.0653196542198 | train_mse=1205.997629969194 | r²=0.29963771393980965 | params={'regressor__eta': 0.03, 'regressor__max_depth': 9, 'regressor__min_child_weight': 2, 'regressor__n_estimators': 400}\n",
            "model=xgboost | val_mse=1346.9043455120939 | train_mse=1165.0878529301951 | r²=0.30692451500644635 | params={'regressor__eta': 0.03, 'regressor__max_depth': 9, 'regressor__min_child_weight': 2, 'regressor__n_estimators': 500}\n",
            "model=xgboost | val_mse=1388.016989335641 | train_mse=1274.0970846826895 | r²=0.2857692149643052 | params={'regressor__eta': 0.03, 'regressor__max_depth': 9, 'regressor__min_child_weight': 3, 'regressor__n_estimators': 300}\n",
            "model=xgboost | val_mse=1365.2131802622032 | train_mse=1221.931414268895 | r²=0.29750335264522887 | params={'regressor__eta': 0.03, 'regressor__max_depth': 9, 'regressor__min_child_weight': 3, 'regressor__n_estimators': 400}\n",
            "model=xgboost | val_mse=1347.6948243304607 | train_mse=1179.3529603046259 | r²=0.3065177589571083 | params={'regressor__eta': 0.03, 'regressor__max_depth': 9, 'regressor__min_child_weight': 3, 'regressor__n_estimators': 500}\n",
            "model=xgboost | val_mse=1384.767414136319 | train_mse=1281.4896725473702 | r²=0.28744134625914985 | params={'regressor__eta': 0.03, 'regressor__max_depth': 9, 'regressor__min_child_weight': 4, 'regressor__n_estimators': 300}\n",
            "model=xgboost | val_mse=1360.9205700155685 | train_mse=1231.224015207945 | r²=0.29971219764486645 | params={'regressor__eta': 0.03, 'regressor__max_depth': 9, 'regressor__min_child_weight': 4, 'regressor__n_estimators': 400}\n",
            "model=xgboost | val_mse=1344.1109567182377 | train_mse=1191.6288852526284 | r²=0.30836190682979914 | params={'regressor__eta': 0.03, 'regressor__max_depth': 9, 'regressor__min_child_weight': 4, 'regressor__n_estimators': 500}\n",
            "model=xgboost | val_mse=1361.2442608525403 | train_mse=1139.6496985596889 | r²=0.2995456363114135 | params={'regressor__eta': 0.03, 'regressor__max_depth': 10, 'regressor__min_child_weight': 1, 'regressor__n_estimators': 300}\n",
            "model=xgboost | val_mse=1345.9982389306108 | train_mse=1076.980119712213 | r²=0.30739076954078637 | params={'regressor__eta': 0.03, 'regressor__max_depth': 10, 'regressor__min_child_weight': 1, 'regressor__n_estimators': 400}\n",
            "model=xgboost | val_mse=1336.4509702527293 | train_mse=1031.2992891070055 | r²=0.3123034999000983 | params={'regressor__eta': 0.03, 'regressor__max_depth': 10, 'regressor__min_child_weight': 1, 'regressor__n_estimators': 500}\n",
            "model=xgboost | val_mse=1356.6433747198885 | train_mse=1158.1186011557045 | r²=0.30191311058559833 | params={'regressor__eta': 0.03, 'regressor__max_depth': 10, 'regressor__min_child_weight': 2, 'regressor__n_estimators': 300}\n",
            "model=xgboost | val_mse=1338.8944935571822 | train_mse=1104.985515065687 | r²=0.31104613808003323 | params={'regressor__eta': 0.03, 'regressor__max_depth': 10, 'regressor__min_child_weight': 2, 'regressor__n_estimators': 400}\n",
            "model=xgboost | val_mse=1327.7026707910259 | train_mse=1057.315127827521 | r²=0.31680510531290407 | params={'regressor__eta': 0.03, 'regressor__max_depth': 10, 'regressor__min_child_weight': 2, 'regressor__n_estimators': 500}\n",
            "model=xgboost | val_mse=1354.8343400667502 | train_mse=1182.0288691300805 | r²=0.3028439840910345 | params={'regressor__eta': 0.03, 'regressor__max_depth': 10, 'regressor__min_child_weight': 3, 'regressor__n_estimators': 300}\n",
            "model=xgboost | val_mse=1335.120042930057 | train_mse=1124.536015283602 | r²=0.31298835410130854 | params={'regressor__eta': 0.03, 'regressor__max_depth': 10, 'regressor__min_child_weight': 3, 'regressor__n_estimators': 400}\n",
            "model=xgboost | val_mse=1325.0059319208226 | train_mse=1083.6126540981375 | r²=0.31819276406283303 | params={'regressor__eta': 0.03, 'regressor__max_depth': 10, 'regressor__min_child_weight': 3, 'regressor__n_estimators': 500}\n",
            "model=xgboost | val_mse=1354.4071016765458 | train_mse=1192.2407525526824 | r²=0.3030638278056126 | params={'regressor__eta': 0.03, 'regressor__max_depth': 10, 'regressor__min_child_weight': 4, 'regressor__n_estimators': 300}\n",
            "model=xgboost | val_mse=1336.1808834005417 | train_mse=1142.308363672677 | r²=0.312442478274245 | params={'regressor__eta': 0.03, 'regressor__max_depth': 10, 'regressor__min_child_weight': 4, 'regressor__n_estimators': 400}\n",
            "model=xgboost | val_mse=1323.156684369559 | train_mse=1100.6379155409657 | r²=0.31914432988689156 | params={'regressor__eta': 0.03, 'regressor__max_depth': 10, 'regressor__min_child_weight': 4, 'regressor__n_estimators': 500}\n",
            "model=xgboost | val_mse=1601.8521385709812 | train_mse=1619.3544610050649 | r²=0.17573623433077312 | params={'regressor__eta': 0.01, 'regressor__max_depth': 7, 'regressor__min_child_weight': 1, 'regressor__n_estimators': 300}\n",
            "model=xgboost | val_mse=1567.6524836737944 | train_mse=1576.5055829247615 | r²=0.19333432322510213 | params={'regressor__eta': 0.01, 'regressor__max_depth': 7, 'regressor__min_child_weight': 1, 'regressor__n_estimators': 400}\n",
            "model=xgboost | val_mse=1539.8237275183888 | train_mse=1539.6378739729005 | r²=0.20765414388158832 | params={'regressor__eta': 0.01, 'regressor__max_depth': 7, 'regressor__min_child_weight': 1, 'regressor__n_estimators': 500}\n",
            "model=xgboost | val_mse=1599.957690852154 | train_mse=1619.4405258416673 | r²=0.17671105876867477 | params={'regressor__eta': 0.01, 'regressor__max_depth': 7, 'regressor__min_child_weight': 2, 'regressor__n_estimators': 300}\n",
            "model=xgboost | val_mse=1565.1571582167364 | train_mse=1577.2519830191363 | r²=0.19461834083713958 | params={'regressor__eta': 0.01, 'regressor__max_depth': 7, 'regressor__min_child_weight': 2, 'regressor__n_estimators': 400}\n",
            "model=xgboost | val_mse=1536.8577285742265 | train_mse=1540.4770571308513 | r²=0.2091803555710563 | params={'regressor__eta': 0.01, 'regressor__max_depth': 7, 'regressor__min_child_weight': 2, 'regressor__n_estimators': 500}\n",
            "model=xgboost | val_mse=1600.3603831561725 | train_mse=1621.6122194536001 | r²=0.1765038457139091 | params={'regressor__eta': 0.01, 'regressor__max_depth': 7, 'regressor__min_child_weight': 3, 'regressor__n_estimators': 300}\n",
            "model=xgboost | val_mse=1564.962766405234 | train_mse=1578.3842007355468 | r²=0.19471836887512517 | params={'regressor__eta': 0.01, 'regressor__max_depth': 7, 'regressor__min_child_weight': 3, 'regressor__n_estimators': 400}\n",
            "model=xgboost | val_mse=1537.042361777242 | train_mse=1542.3137036369762 | r²=0.2090853490123854 | params={'regressor__eta': 0.01, 'regressor__max_depth': 7, 'regressor__min_child_weight': 3, 'regressor__n_estimators': 500}\n",
            "model=xgboost | val_mse=1600.5674915823815 | train_mse=1622.313187706595 | r²=0.1763972740977291 | params={'regressor__eta': 0.01, 'regressor__max_depth': 7, 'regressor__min_child_weight': 4, 'regressor__n_estimators': 300}\n",
            "model=xgboost | val_mse=1565.0250973402804 | train_mse=1578.8622030639985 | r²=0.19468629529604642 | params={'regressor__eta': 0.01, 'regressor__max_depth': 7, 'regressor__min_child_weight': 4, 'regressor__n_estimators': 400}\n",
            "model=xgboost | val_mse=1537.2458625449146 | train_mse=1542.6079735022586 | r²=0.20898063378615483 | params={'regressor__eta': 0.01, 'regressor__max_depth': 7, 'regressor__min_child_weight': 4, 'regressor__n_estimators': 500}\n",
            "model=xgboost | val_mse=1553.8301436074446 | train_mse=1544.6250067572025 | r²=0.20044687362792157 | params={'regressor__eta': 0.01, 'regressor__max_depth': 8, 'regressor__min_child_weight': 1, 'regressor__n_estimators': 300}\n",
            "model=xgboost | val_mse=1516.0565292082592 | train_mse=1491.4139582932748 | r²=0.21988401198663798 | params={'regressor__eta': 0.01, 'regressor__max_depth': 8, 'regressor__min_child_weight': 1, 'regressor__n_estimators': 400}\n",
            "model=xgboost | val_mse=1489.8214812119913 | train_mse=1451.9901642979044 | r²=0.23338375951839707 | params={'regressor__eta': 0.01, 'regressor__max_depth': 8, 'regressor__min_child_weight': 1, 'regressor__n_estimators': 500}\n",
            "model=xgboost | val_mse=1553.5343788487298 | train_mse=1550.1400778131106 | r²=0.20059906506176262 | params={'regressor__eta': 0.01, 'regressor__max_depth': 8, 'regressor__min_child_weight': 2, 'regressor__n_estimators': 300}\n",
            "model=xgboost | val_mse=1515.4730379122493 | train_mse=1497.7113869114107 | r²=0.2201842586331939 | params={'regressor__eta': 0.01, 'regressor__max_depth': 8, 'regressor__min_child_weight': 2, 'regressor__n_estimators': 400}\n",
            "model=xgboost | val_mse=1489.5693254391783 | train_mse=1459.3103596062206 | r²=0.233513511111462 | params={'regressor__eta': 0.01, 'regressor__max_depth': 8, 'regressor__min_child_weight': 2, 'regressor__n_estimators': 500}\n",
            "model=xgboost | val_mse=1553.3023813082787 | train_mse=1552.704805247635 | r²=0.20071844384942583 | params={'regressor__eta': 0.01, 'regressor__max_depth': 8, 'regressor__min_child_weight': 3, 'regressor__n_estimators': 300}\n",
            "model=xgboost | val_mse=1515.987823111954 | train_mse=1501.1001027703826 | r²=0.21991936602731454 | params={'regressor__eta': 0.01, 'regressor__max_depth': 8, 'regressor__min_child_weight': 3, 'regressor__n_estimators': 400}\n",
            "model=xgboost | val_mse=1489.5519984107718 | train_mse=1463.4225092458173 | r²=0.23352242706652315 | params={'regressor__eta': 0.01, 'regressor__max_depth': 8, 'regressor__min_child_weight': 3, 'regressor__n_estimators': 500}\n",
            "model=xgboost | val_mse=1552.992888852954 | train_mse=1554.5943553569634 | r²=0.20087769913306253 | params={'regressor__eta': 0.01, 'regressor__max_depth': 8, 'regressor__min_child_weight': 4, 'regressor__n_estimators': 300}\n",
            "model=xgboost | val_mse=1515.6168181202545 | train_mse=1504.6319317434998 | r²=0.22011027376728431 | params={'regressor__eta': 0.01, 'regressor__max_depth': 8, 'regressor__min_child_weight': 4, 'regressor__n_estimators': 400}\n",
            "model=xgboost | val_mse=1489.0999911798272 | train_mse=1466.717391777748 | r²=0.23375501606354543 | params={'regressor__eta': 0.01, 'regressor__max_depth': 8, 'regressor__min_child_weight': 4, 'regressor__n_estimators': 500}\n",
            "model=xgboost | val_mse=1505.4353262879592 | train_mse=1462.7662088676252 | r²=0.22534935582469873 | params={'regressor__eta': 0.01, 'regressor__max_depth': 9, 'regressor__min_child_weight': 1, 'regressor__n_estimators': 300}\n",
            "model=xgboost | val_mse=1472.150502251801 | train_mse=1407.8643905187512 | r²=0.24247670093918394 | params={'regressor__eta': 0.01, 'regressor__max_depth': 9, 'regressor__min_child_weight': 1, 'regressor__n_estimators': 400}\n",
            "model=xgboost | val_mse=1449.0479021067185 | train_mse=1366.2380527348519 | r²=0.25436458730135725 | params={'regressor__eta': 0.01, 'regressor__max_depth': 9, 'regressor__min_child_weight': 1, 'regressor__n_estimators': 500}\n",
            "model=xgboost | val_mse=1504.8296439776193 | train_mse=1470.5617459803013 | r²=0.22566102128363774 | params={'regressor__eta': 0.01, 'regressor__max_depth': 9, 'regressor__min_child_weight': 2, 'regressor__n_estimators': 300}\n",
            "model=xgboost | val_mse=1472.1407494988484 | train_mse=1419.1073839789071 | r²=0.24248171940542107 | params={'regressor__eta': 0.01, 'regressor__max_depth': 9, 'regressor__min_child_weight': 2, 'regressor__n_estimators': 400}\n",
            "model=xgboost | val_mse=1449.117793609523 | train_mse=1379.90727299526 | r²=0.25432862328701233 | params={'regressor__eta': 0.01, 'regressor__max_depth': 9, 'regressor__min_child_weight': 2, 'regressor__n_estimators': 500}\n",
            "model=xgboost | val_mse=1510.0424747744457 | train_mse=1480.3966070088131 | r²=0.22297865913614145 | params={'regressor__eta': 0.01, 'regressor__max_depth': 9, 'regressor__min_child_weight': 3, 'regressor__n_estimators': 300}\n",
            "model=xgboost | val_mse=1475.1938112539194 | train_mse=1427.4232260829328 | r²=0.24091070787541768 | params={'regressor__eta': 0.01, 'regressor__max_depth': 9, 'regressor__min_child_weight': 3, 'regressor__n_estimators': 400}\n",
            "model=xgboost | val_mse=1449.8922854828497 | train_mse=1386.8697658379842 | r²=0.2539300936271164 | params={'regressor__eta': 0.01, 'regressor__max_depth': 9, 'regressor__min_child_weight': 3, 'regressor__n_estimators': 500}\n",
            "model=xgboost | val_mse=1509.0886424352955 | train_mse=1484.1276443377785 | r²=0.2234694718751914 | params={'regressor__eta': 0.01, 'regressor__max_depth': 9, 'regressor__min_child_weight': 4, 'regressor__n_estimators': 300}\n",
            "model=xgboost | val_mse=1475.3665049201693 | train_mse=1434.303302182688 | r²=0.24082184503457071 | params={'regressor__eta': 0.01, 'regressor__max_depth': 9, 'regressor__min_child_weight': 4, 'regressor__n_estimators': 400}\n",
            "model=xgboost | val_mse=1451.8912135503297 | train_mse=1395.071732009433 | r²=0.252901506820301 | params={'regressor__eta': 0.01, 'regressor__max_depth': 9, 'regressor__min_child_weight': 4, 'regressor__n_estimators': 500}\n",
            "model=xgboost | val_mse=1463.8128550723102 | train_mse=1381.4226261899569 | r²=0.2467669973376514 | params={'regressor__eta': 0.01, 'regressor__max_depth': 10, 'regressor__min_child_weight': 1, 'regressor__n_estimators': 300}\n",
            "model=xgboost | val_mse=1432.0851059554195 | train_mse=1320.305238327171 | r²=0.2630931196641647 | params={'regressor__eta': 0.01, 'regressor__max_depth': 10, 'regressor__min_child_weight': 1, 'regressor__n_estimators': 400}\n",
            "model=xgboost | val_mse=1408.3953546260548 | train_mse=1270.7866729014552 | r²=0.2752831359386566 | params={'regressor__eta': 0.01, 'regressor__max_depth': 10, 'regressor__min_child_weight': 1, 'regressor__n_estimators': 500}\n",
            "model=xgboost | val_mse=1464.8037936345509 | train_mse=1392.2638643001405 | r²=0.2462570908792514 | params={'regressor__eta': 0.01, 'regressor__max_depth': 10, 'regressor__min_child_weight': 2, 'regressor__n_estimators': 300}\n",
            "model=xgboost | val_mse=1433.1802886730059 | train_mse=1336.5569160145565 | r²=0.2625295723746509 | params={'regressor__eta': 0.01, 'regressor__max_depth': 10, 'regressor__min_child_weight': 2, 'regressor__n_estimators': 400}\n",
            "model=xgboost | val_mse=1409.235263051804 | train_mse=1287.6471711759305 | r²=0.274850944936032 | params={'regressor__eta': 0.01, 'regressor__max_depth': 10, 'regressor__min_child_weight': 2, 'regressor__n_estimators': 500}\n",
            "model=xgboost | val_mse=1463.3606928238257 | train_mse=1401.1408316935488 | r²=0.24699966610192448 | params={'regressor__eta': 0.01, 'regressor__max_depth': 10, 'regressor__min_child_weight': 3, 'regressor__n_estimators': 300}\n",
            "model=xgboost | val_mse=1427.4096075694745 | train_mse=1337.788398950625 | r²=0.2654989871054739 | params={'regressor__eta': 0.01, 'regressor__max_depth': 10, 'regressor__min_child_weight': 3, 'regressor__n_estimators': 400}\n",
            "model=xgboost | val_mse=1405.4115741340013 | train_mse=1294.5119705983416 | r²=0.27681849746491116 | params={'regressor__eta': 0.01, 'regressor__max_depth': 10, 'regressor__min_child_weight': 3, 'regressor__n_estimators': 500}\n",
            "model=xgboost | val_mse=1466.282707658544 | train_mse=1407.2427933224699 | r²=0.24549608728025174 | params={'regressor__eta': 0.01, 'regressor__max_depth': 10, 'regressor__min_child_weight': 4, 'regressor__n_estimators': 300}\n",
            "model=xgboost | val_mse=1432.4950506941314 | train_mse=1352.0610766695238 | r²=0.26288217472991615 | params={'regressor__eta': 0.01, 'regressor__max_depth': 10, 'regressor__min_child_weight': 4, 'regressor__n_estimators': 400}\n",
            "model=xgboost | val_mse=1408.6832333471286 | train_mse=1306.5990959682206 | r²=0.2751350024168572 | params={'regressor__eta': 0.01, 'regressor__max_depth': 10, 'regressor__min_child_weight': 4, 'regressor__n_estimators': 500}\n",
            "================================================================================\n",
            "Best model: xgboost\n",
            "Best hyperparameters: {'regressor__eta': 0.1, 'regressor__max_depth': 9, 'regressor__min_child_weight': 4, 'regressor__n_estimators': 500}\n",
            "Val MSE: 1293.8394\n",
            "Train MSE: 913.8974\n",
            "R^2: 0.3342\n"
          ]
        }
      ],
      "source": [
        "from sklearn.pipeline import Pipeline\n",
        "from sklearn.model_selection import ParameterGrid\n",
        "from sklearn.linear_model import SGDRegressor\n",
        "from xgboost import XGBRegressor\n",
        "from sklearn.metrics import mean_squared_error, r2_score\n",
        "import pickle\n",
        "import math\n",
        "\n",
        "linear_regression_pipeline = Pipeline([\n",
        "    ('preprocessor', preprocessor),\n",
        "    ('regressor', SGDRegressor())\n",
        "])\n",
        "\n",
        "xgboost_pipeline = Pipeline([\n",
        "    ('preprocessor', preprocessor),\n",
        "    ('regressor', XGBRegressor())\n",
        "])\n",
        "\n",
        "hyperparameters = {\n",
        "    'linear_regression': {\n",
        "        'regressor__eta0': [0.1, 0.01, 0.001],\n",
        "        'regressor__alpha': [0.1, 0.01, 0.001]\n",
        "    },\n",
        "    'xgboost': {\n",
        "        'regressor__n_estimators': [300, 400, 500],\n",
        "        'regressor__max_depth': [7, 8, 9, 10],\n",
        "        'regressor__min_child_weight': [1, 2, 3, 4],\n",
        "        'regressor__eta': [0.3, 0.1, 0.03, 0.01]\n",
        "    }\n",
        "}\n",
        "\n",
        "\n",
        "# Train and evaluate models\n",
        "results = {}\n",
        "best_mse = math.inf\n",
        "best_model = {}\n",
        "best_pipeline = None\n",
        "\n",
        "for model_name, pipeline in [('linear_regression', linear_regression_pipeline), ('xgboost', xgboost_pipeline)]:\n",
        "    results[model_name] = {}\n",
        "    for i, hyperparameter_setting in enumerate(ParameterGrid(hyperparameters[model_name])):\n",
        "        pipeline.set_params(**hyperparameter_setting)\n",
        "        pipeline.fit(X_train, y_train)\n",
        "        y_pred = pipeline.predict(X_val)\n",
        "        val_mse = mean_squared_error(y_val, y_pred)\n",
        "        train_mse = mean_squared_error(y_train, pipeline.predict(X_train))\n",
        "\n",
        "        r2 = r2_score(y_val, y_pred)\n",
        "        results[model_name][str(hyperparameter_setting)] = {'mse': val_mse, 'r2': r2}\n",
        "        if val_mse < best_mse:\n",
        "          best_mse = val_mse\n",
        "          best_model = {\n",
        "            'val_mse': val_mse,\n",
        "            'train_mse': train_mse,\n",
        "            'r2': r2,\n",
        "            'model': model_name,\n",
        "            'params': hyperparameter_setting\n",
        "          }\n",
        "          best_pipeline = pipeline\n",
        "        print(f'model={model_name} | val_mse={val_mse} | train_mse={train_mse} | r²={r2} | params={hyperparameter_setting}')\n",
        "\n",
        "\n",
        "with open(f'best_model.pkl', 'wb') as f:\n",
        "  pickle.dump(best_pipeline, f)\n",
        "\n",
        "print(\"=\"*80)\n",
        "\n",
        "print(f\"Best model: {best_model['model']}\")\n",
        "print(f\"Best hyperparameters: {best_model['params']}\")\n",
        "print(f\"Val MSE: {best_model['val_mse']:.4f}\")\n",
        "print(f\"Train MSE: {best_model['train_mse']:.4f}\")\n",
        "print(f\"R^2: {best_model['r2']:.4f}\")"
      ]
    },
    {
      "cell_type": "markdown",
      "metadata": {
        "id": "iE-M6pQKqEt8"
      },
      "source": [
        "---"
      ]
    },
    {
      "cell_type": "markdown",
      "metadata": {
        "id": "YDjr_SMjqGLe"
      },
      "source": [
        "### **Avaliação no conjunto de testes**"
      ]
    },
    {
      "cell_type": "code",
      "execution_count": 127,
      "metadata": {
        "colab": {
          "base_uri": "https://localhost:8080/"
        },
        "id": "vu1xc6dbrfL1",
        "outputId": "9eaba26d-b065-4dc8-92e8-cc2e8e8f1af7"
      },
      "outputs": [
        {
          "name": "stdout",
          "output_type": "stream",
          "text": [
            "Test MSE: 1450.3990\n",
            "R^2: 0.2714\n"
          ]
        }
      ],
      "source": [
        "y_pred = best_pipeline.predict(X_test)\n",
        "test_mse = mean_squared_error(y_test, y_pred)\n",
        "r2_test = r2_score(y_test, y_pred)\n",
        "\n",
        "print(f\"Test MSE: {test_mse:.4f}\")\n",
        "print(f\"R^2: {r2_test:.4f}\")"
      ]
    }
  ],
  "metadata": {
    "colab": {
      "provenance": []
    },
    "kernelspec": {
      "display_name": "Python 3",
      "name": "python3"
    },
    "language_info": {
      "name": "python"
    }
  },
  "nbformat": 4,
  "nbformat_minor": 0
}
